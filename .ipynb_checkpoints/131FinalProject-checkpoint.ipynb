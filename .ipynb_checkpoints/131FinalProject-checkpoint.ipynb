{
 "cells": [
  {
   "cell_type": "markdown",
   "metadata": {},
   "source": [
    "## Overview:\n",
    "\n",
    " The Boston Marathon is an annual marathon hosted by several cities in greater Boston in eastern Massachusetts, United States. The data is downloaded from Kaggle. Our data is ** Finishers Boston Marathon 2017**. It contains 26410 rows and 25 variables. "
   ]
  },
  {
   "cell_type": "markdown",
   "metadata": {},
   "source": [
    "### In this analysis, we are doing:\n",
    "* Data description\n",
    "* Exploratory data analysis\n",
    "* Data modeling"
   ]
  },
  {
   "cell_type": "markdown",
   "metadata": {},
   "source": [
    "## Part1: Data Description:\n"
   ]
  },
  {
   "cell_type": "markdown",
   "metadata": {},
   "source": [
    "### * Content:\n",
    "According to their offical data information from this website: *http://registration.baa.org/2017/cf/Public/iframe_Statistics.htmThe* we know that 97% of participants finished the marathon. \n",
    "\n",
    "\n",
    "### * Description:\n",
    "In this dataset, we have 25 Variables: *Name, Age, Gender, Country, City and State (where available), Times at 9 different stages of the race, expected time, Finish time and Pace, Overall place, Gender place and Division place*. The dataset is clean. There are only some NaN in \"Citizen\" variables, but for other variables, all of them contains values. In our analysis, we did not use the variable \"Citizen\" since it does not give any useful insights of our analysis.\n",
    "\n",
    "\n",
    "### * Data recode\n",
    "Since the \"Country\" variable has too many levels, we decide to recode this variable down to 2 levles: \"1\" for USA participants, \"0\" otherwise, we want to see if there is significant difference in finish time for people from US and outside from US."
   ]
  },
  {
   "cell_type": "markdown",
   "metadata": {},
   "source": [
    "## Part2：Exploratory Data Analysis:"
   ]
  },
  {
   "cell_type": "code",
   "execution_count": 1,
   "metadata": {},
   "outputs": [],
   "source": [
    "#import necessary libraries\n",
    "import numpy as np\n",
    "import pandas as pd\n",
    "import datetime as DT\n",
    "import matplotlib.pyplot as plt\n",
    "import seaborn as sns\n",
    "import scipy.stats as stats\n",
    "from  sklearn.linear_model import LinearRegression\n",
    "import statsmodels.api as sm"
   ]
  },
  {
   "cell_type": "code",
   "execution_count": 2,
   "metadata": {},
   "outputs": [
    {
     "name": "stdout",
     "output_type": "stream",
     "text": [
      "(26410, 25)\n",
      "<class 'pandas.core.frame.DataFrame'>\n",
      "RangeIndex: 26410 entries, 0 to 26409\n",
      "Data columns (total 25 columns):\n",
      "Unnamed: 0       26410 non-null int64\n",
      "Bib              26410 non-null object\n",
      "Name             26410 non-null object\n",
      "Age              26410 non-null int64\n",
      "M/F              26410 non-null object\n",
      "City             26410 non-null object\n",
      "State            22815 non-null object\n",
      "Country          26410 non-null object\n",
      "Citizen          1254 non-null object\n",
      "Unnamed: 9       91 non-null object\n",
      "5K               26410 non-null object\n",
      "10K              26410 non-null object\n",
      "15K              26410 non-null object\n",
      "20K              26410 non-null object\n",
      "Half             26410 non-null object\n",
      "25K              26410 non-null object\n",
      "30K              26410 non-null object\n",
      "35K              26410 non-null object\n",
      "40K              26410 non-null object\n",
      "Pace             26410 non-null object\n",
      "Proj Time        26410 non-null object\n",
      "Official Time    26410 non-null object\n",
      "Overall          26410 non-null int64\n",
      "Gender           26410 non-null int64\n",
      "Division         26410 non-null int64\n",
      "dtypes: int64(5), object(20)\n",
      "memory usage: 5.0+ MB\n",
      "None\n",
      "         Unnamed: 0           Age       Overall        Gender      Division\n",
      "count  26410.000000  26410.000000  26410.000000  26410.000000  26410.000000\n",
      "mean   13204.500000     42.587732  13206.260091   6660.973230   1588.796706\n",
      "std     7624.054641     11.419467   7624.370496   3910.031525   1423.199500\n",
      "min        0.000000     18.000000      1.000000      1.000000      1.000000\n",
      "25%     6602.250000     34.000000   6604.250000   3302.250000    502.000000\n",
      "50%    13204.500000     43.000000  13206.500000   6603.500000   1154.000000\n",
      "75%    19806.750000     51.000000  19808.750000   9904.750000   2190.750000\n",
      "max    26409.000000     84.000000  26411.000000  14438.000000   5846.000000\n"
     ]
    }
   ],
   "source": [
    "data = pd.read_csv('marathon_results_2017.csv')\n",
    "print(data.shape)\n",
    "print(data.info())\n",
    "print(data.describe())\n",
    "# as we can see, there is 26410 rows and 25 variables,\n",
    "#not many NaN values."
   ]
  },
  {
   "cell_type": "markdown",
   "metadata": {},
   "source": [
    "# Marathon Participants \n",
    "### 1: By Age\n",
    "### 2: By Gender\n",
    "### 3: By Country(recode)"
   ]
  },
  {
   "cell_type": "code",
   "execution_count": 3,
   "metadata": {},
   "outputs": [
    {
     "name": "stdout",
     "output_type": "stream",
     "text": [
      "  Official Time  Time_Minutes\n",
      "0       2:09:37    129.616667\n",
      "1       2:09:58    129.966667\n",
      "2       2:10:28    130.466667\n",
      "3       2:12:08    132.133333\n",
      "4       2:12:35    132.583333\n",
      "      Pace  Pace_Time_Seconds\n",
      "0  0:04:57                297\n",
      "1  0:04:58                298\n",
      "2  0:04:59                299\n",
      "3  0:05:03                303\n",
      "4  0:05:04                304\n"
     ]
    }
   ],
   "source": [
    "#convert \"official time\" format to minutes, it's easy to calculate \n",
    "def convert_to_minutes(time):\n",
    "    minutes = time.str.split(':').map(lambda x: int(x[-1]) / 60 + int(x[-2]) + int(x[-3]) * 60)\n",
    "    return minutes\n",
    "data['Time_Minutes'] = convert_to_minutes(data['Official Time'])\n",
    "print(data.loc[:,['Official Time','Time_Minutes']].head())\n",
    "\n",
    "# convert \"pace\" format to seconds.\n",
    "\n",
    "def minutes_to_seconds(time):\n",
    "    seconds = time.str[2:4].astype(int) * 60 + time.str[-2:].astype(int)\n",
    "    return seconds\n",
    "data['Pace_Time_Seconds'] = minutes_to_seconds(data['Pace'])\n",
    "print(data.loc[:, ['Pace', 'Pace_Time_Seconds']]. head())"
   ]
  },
  {
   "cell_type": "code",
   "execution_count": 4,
   "metadata": {},
   "outputs": [
    {
     "name": "stdout",
     "output_type": "stream",
     "text": [
      "10    255.197090\n",
      "20    232.576644\n",
      "30    228.135193\n",
      "40    235.063972\n",
      "50    246.556823\n",
      "60    265.788384\n",
      "70    292.434007\n",
      "80    296.754762\n",
      "Name: Time_Minutes, dtype: float64\n"
     ]
    }
   ],
   "source": [
    "#Calcualte mean of finish time for each age group\n",
    "time = data.loc[:,['Time_Minutes']]\n",
    "decade = pd.cut(data.Age,bins=np.arange(10,99,10),right=False)\n",
    "time[\"DECADE\"] = decade\n",
    "summary = time.groupby('DECADE')['Time_Minutes'].mean()\n",
    "summary.index = np.arange(10,90,10) \n",
    "print(summary)   \n",
    "#fastest group is 30-39 years old"
   ]
  },
  {
   "cell_type": "markdown",
   "metadata": {},
   "source": [
    "### 1: Age and Gender Distribution"
   ]
  },
  {
   "cell_type": "code",
   "execution_count": 5,
   "metadata": {},
   "outputs": [
    {
     "data": {
      "image/png": "[encoded data removed]",
      "text/plain": [
       "<Figure size 432x288 with 1 Axes>"
      ]
     },
     "metadata": {},
     "output_type": "display_data"
    }
   ],
   "source": [
    "plt.hist(data.Age,color='royalblue')  #the age varies from 18 to 84 years old.\n",
    "plt.title(\"Participants' Age\")\n",
    "plt.xlabel(\"age\")\n",
    "plt.ylabel(\"Number of Participants \")\n",
    "plt.show()"
   ]
  },
  {
   "cell_type": "code",
   "execution_count": 6,
   "metadata": {},
   "outputs": [
    {
     "data": {
      "text/plain": [
       "Text(0.5,1,'Participation in 2017')"
      ]
     },
     "execution_count": 6,
     "metadata": {},
     "output_type": "execute_result"
    },
    {
     "data": {
      "image/png": "[encoded data removed]",
      "text/plain": [
       "<Figure size 432x288 with 1 Axes>"
      ]
     },
     "metadata": {},
     "output_type": "display_data"
    }
   ],
   "source": [
    "g = sns.boxplot(data['M/F'], data['Age'])\n",
    "g.set_title(\"Participation in 2017\")\n",
    "\n"
   ]
  },
  {
   "cell_type": "markdown",
   "metadata": {},
   "source": [
    "### * Combine age and gender:"
   ]
  },
  {
   "cell_type": "code",
   "execution_count": 7,
   "metadata": {},
   "outputs": [
    {
     "data": {
      "text/plain": [
       "Text(0.5,1,'Participants by Age & Gender')"
      ]
     },
     "execution_count": 7,
     "metadata": {},
     "output_type": "execute_result"
    },
    {
     "data": {
      "image/png": "[encoded data removed]",
      "text/plain": [
       "<Figure size 1296x576 with 1 Axes>"
      ]
     },
     "metadata": {},
     "output_type": "display_data"
    }
   ],
   "source": [
    "g = sns.countplot('Age', data=data, palette=\"Set1\", hue='M/F')\n",
    "g.figure.set_size_inches(18,8)\n",
    "g.set_title(\"Participants by Age & Gender\")"
   ]
  },
  {
   "cell_type": "markdown",
   "metadata": {},
   "source": [
    "### * Country:"
   ]
  },
  {
   "cell_type": "markdown",
   "metadata": {},
   "source": [
    "#### Top 15 Fastest Countries"
   ]
  },
  {
   "cell_type": "code",
   "execution_count": 8,
   "metadata": {},
   "outputs": [
    {
     "data": {
      "text/plain": [
       "<matplotlib.axes._subplots.AxesSubplot at 0x1163b0588>"
      ]
     },
     "execution_count": 8,
     "metadata": {},
     "output_type": "execute_result"
    },
    {
     "data": {
      "image/png": "[encoded data removed]",
      "text/plain": [
       "<Figure size 432x288 with 1 Axes>"
      ]
     },
     "metadata": {},
     "output_type": "display_data"
    }
   ],
   "source": [
    "top_15_countries = data.groupby(\"Country\")['Time_Minutes'].mean().nsmallest(15)\n",
    "\n",
    "top15_countries = data.loc[data['Country'].isin(np.array(top_15_countries.index))]\n",
    "top15_countries = top15_countries.groupby('Country')['Time_Minutes'].mean()\n",
    "top15_countries = pd.DataFrame(top15_countries)\n",
    "top15_countries = top15_countries.sort_values(['Time_Minutes'])\n",
    "sns.barplot(x = top15_countries.index, y = top15_countries.Time_Minutes)"
   ]
  },
  {
   "cell_type": "markdown",
   "metadata": {},
   "source": [
    "#### Worst 15 Countries"
   ]
  },
  {
   "cell_type": "code",
   "execution_count": 9,
   "metadata": {},
   "outputs": [
    {
     "data": {
      "text/plain": [
       "<matplotlib.axes._subplots.AxesSubplot at 0x116059208>"
      ]
     },
     "execution_count": 9,
     "metadata": {},
     "output_type": "execute_result"
    },
    {
     "data": {
      "image/png": "[encoded data removed]",
      "text/plain": [
       "<Figure size 432x288 with 1 Axes>"
      ]
     },
     "metadata": {},
     "output_type": "display_data"
    }
   ],
   "source": [
    "worst_15_countries = data.groupby(\"Country\")['Time_Minutes'].mean().nlargest(15)\n",
    "\n",
    "worst15_countries = data.loc[data['Country'].isin(np.array(worst_15_countries.index))]\n",
    "worst15_countries = worst15_countries.groupby('Country')['Time_Minutes'].mean()\n",
    "worst15_countries = pd.DataFrame(worst15_countries)\n",
    "worst15_countries = worst15_countries.sort_values(['Time_Minutes'])\n",
    "sns.barplot(x = worst15_countries.index, y = worst15_countries.Time_Minutes)"
   ]
  },
  {
   "cell_type": "markdown",
   "metadata": {},
   "source": [
    "## Recode 'Country\": whether the participants are from US or not.\n",
    "\n",
    "### 1 as US, 0 as outside US"
   ]
  },
  {
   "cell_type": "code",
   "execution_count": 10,
   "metadata": {},
   "outputs": [
    {
     "data": {
      "text/plain": [
       "USA    20945\n",
       "CAN     1870\n",
       "GBR      425\n",
       "MEX      285\n",
       "CHN      242\n",
       "GER      226\n",
       "BRA      205\n",
       "AUS      191\n",
       "JPN      170\n",
       "ITA      165\n",
       "Name: Country, dtype: int64"
      ]
     },
     "execution_count": 10,
     "metadata": {},
     "output_type": "execute_result"
    }
   ],
   "source": [
    "data.Country.value_counts().head(10) #we can see there are many people are from USA.   "
   ]
  },
  {
   "cell_type": "code",
   "execution_count": 11,
   "metadata": {},
   "outputs": [
    {
     "data": {
      "text/html": [
       "<div>\n",
       "<style scoped>\n",
       "    .dataframe tbody tr th:only-of-type {\n",
       "        vertical-align: middle;\n",
       "    }\n",
       "\n",
       "    .dataframe tbody tr th {\n",
       "        vertical-align: top;\n",
       "    }\n",
       "\n",
       "    .dataframe thead th {\n",
       "        text-align: right;\n",
       "    }\n",
       "</style>\n",
       "<table border=\"1\" class=\"dataframe\">\n",
       "  <thead>\n",
       "    <tr style=\"text-align: right;\">\n",
       "      <th></th>\n",
       "      <th>Country</th>\n",
       "      <th>US</th>\n",
       "    </tr>\n",
       "  </thead>\n",
       "  <tbody>\n",
       "    <tr>\n",
       "      <th>0</th>\n",
       "      <td>KEN</td>\n",
       "      <td>0</td>\n",
       "    </tr>\n",
       "    <tr>\n",
       "      <th>1</th>\n",
       "      <td>USA</td>\n",
       "      <td>1</td>\n",
       "    </tr>\n",
       "    <tr>\n",
       "      <th>2</th>\n",
       "      <td>JPN</td>\n",
       "      <td>0</td>\n",
       "    </tr>\n",
       "    <tr>\n",
       "      <th>3</th>\n",
       "      <td>USA</td>\n",
       "      <td>1</td>\n",
       "    </tr>\n",
       "    <tr>\n",
       "      <th>4</th>\n",
       "      <td>KEN</td>\n",
       "      <td>0</td>\n",
       "    </tr>\n",
       "    <tr>\n",
       "      <th>5</th>\n",
       "      <td>USA</td>\n",
       "      <td>1</td>\n",
       "    </tr>\n",
       "    <tr>\n",
       "      <th>6</th>\n",
       "      <td>USA</td>\n",
       "      <td>1</td>\n",
       "    </tr>\n",
       "    <tr>\n",
       "      <th>7</th>\n",
       "      <td>ETH</td>\n",
       "      <td>0</td>\n",
       "    </tr>\n",
       "    <tr>\n",
       "      <th>8</th>\n",
       "      <td>USA</td>\n",
       "      <td>1</td>\n",
       "    </tr>\n",
       "    <tr>\n",
       "      <th>9</th>\n",
       "      <td>USA</td>\n",
       "      <td>1</td>\n",
       "    </tr>\n",
       "  </tbody>\n",
       "</table>\n",
       "</div>"
      ],
      "text/plain": [
       "  Country  US\n",
       "0     KEN   0\n",
       "1     USA   1\n",
       "2     JPN   0\n",
       "3     USA   1\n",
       "4     KEN   0\n",
       "5     USA   1\n",
       "6     USA   1\n",
       "7     ETH   0\n",
       "8     USA   1\n",
       "9     USA   1"
      ]
     },
     "execution_count": 11,
     "metadata": {},
     "output_type": "execute_result"
    }
   ],
   "source": [
    "#create new variable \"US\" as a categorical variable with level 1 and 0\n",
    "data['US'] = np.where(data.Country.str.contains('USA'),1,0)\n",
    "data[['Country','US']].head(10)"
   ]
  },
  {
   "cell_type": "code",
   "execution_count": 12,
   "metadata": {},
   "outputs": [
    {
     "data": {
      "text/plain": [
       "Text(0.5,1,'US and outside US')"
      ]
     },
     "execution_count": 12,
     "metadata": {},
     "output_type": "execute_result"
    },
    {
     "data": {
      "image/png": "[encoded data removed]",
      "text/plain": [
       "<Figure size 432x288 with 1 Axes>"
      ]
     },
     "metadata": {},
     "output_type": "display_data"
    }
   ],
   "source": [
    "g = sns.boxplot(data['US'], data['Time_Minutes'])\n",
    "g.set_title(\"US and outside US\")"
   ]
  },
  {
   "cell_type": "code",
   "execution_count": 13,
   "metadata": {},
   "outputs": [
    {
     "name": "stdout",
     "output_type": "stream",
     "text": [
      "US\n",
      "0    231.786353\n",
      "1    239.695991\n",
      "Name: Time_Minutes, dtype: float64\n",
      "US\n",
      "0    226.416667\n",
      "1    233.116667\n",
      "Name: Time_Minutes, dtype: float64\n"
     ]
    }
   ],
   "source": [
    "US = data.loc[:,['Time_Minutes','US']]\n",
    "us_summary = US.groupby('US')['Time_Minutes'].mean()\n",
    "us_summary2 = US.groupby('US')['Time_Minutes'].median()\n",
    "print(us_summary)\n",
    "print(us_summary2)\n",
    "#from the mean and medain summary, \n",
    "#we can see people outside US perfom better then people from US\n",
    "#since they use less time to finish the run."
   ]
  },
  {
   "cell_type": "code",
   "execution_count": 14,
   "metadata": {},
   "outputs": [
    {
     "data": {
      "text/plain": [
       "array(['KEN', 'USA', 'JPN', 'ETH', 'ZIM', 'MEX', 'BRN', 'BRA', 'CAN',\n",
       "       'ITA', 'NED', 'IRL', 'BDI', 'GBR', 'GER', 'ESP', 'SUI', 'COL',\n",
       "       'NOR', 'POL', 'FRA', 'RUS', 'POR', 'CRC', 'BEL', 'NZL', 'PER',\n",
       "       'DOM', 'PAN', 'AUS', 'DEN', 'MAS', 'PHI', 'CHI', 'AUT', 'ARG',\n",
       "       'SIN', 'CHN', 'TWN', 'GUA', 'RSA', 'HKG', 'SLO', 'EST', 'TUR',\n",
       "       'EGY', 'IND', 'UAE', 'SWE', 'BER', 'KOR', 'CAY', 'FIN', 'LTU',\n",
       "       'GRE', 'CRO', 'ISL', 'LUX', 'FLK', 'VEN', 'JAM', 'THA', 'HON',\n",
       "       'SRB', 'CZE', 'ISR', 'MLT', 'HUN', 'ECU', 'KSA', 'ESA', 'MAR',\n",
       "       'ROU', 'LAT', 'UKR', 'SMR', 'BUL', 'ALG', 'NCA', 'SVK', 'AND',\n",
       "       'BAR', 'INA', 'GRN', 'URU', 'PAR', 'TCA', 'KUW', 'TRI', 'MGL',\n",
       "       'NGR'], dtype=object)"
      ]
     },
     "execution_count": 14,
     "metadata": {},
     "output_type": "execute_result"
    }
   ],
   "source": [
    "data.Country.unique()\n",
    "# Africa : KEN, ETH, ZIM, BRN, BDI, RSA, EGY, MAR, ALG, NGR\n",
    "# America : USA, MEX, BRA, CAN, COL, CRC, DOM, PAN, CHI, ARG, GUA, BER, CAY, FLK, VEN, JAM, HON, ECU, ESA, BAR, GRN,\n",
    "# URU, PAR, TCA, TRI, \n",
    "# Asia : JPN, NZL, PER, AUS, MAS, PHI, SIN, CHN, TWN, HKG, IND, UAE, KOR, THA, ISR, KSA, NCA, INA, KUW, MGL, \n",
    "# Europe : ITA, NED, IRL, GBR, ESP, SUI, NOR, POL, FRA, RUS, POR, BEL, DEN, AUT, SLO, EST, TUR, SWE, FIN, LTU, GER, CRO,\n",
    "# ISL, LUX, SRB, CZE, MLT, HUN, ROU, LAT, UKR, SMR, BUL, SVK, AND, GRE"
   ]
  },
  {
   "cell_type": "code",
   "execution_count": 15,
   "metadata": {},
   "outputs": [],
   "source": [
    "africa = ['KEN', 'ETH', 'ZIM', 'BRN', 'BDI', 'RSA', 'EGY', 'MAR', 'ALG', 'NGR']\n",
    "america = ['USA', 'MEX', 'BRA', 'CAN', 'COL', 'CRC', 'DOM', 'PAN', 'CHI', 'ARG', 'GUA', 'BER', 'CAY', 'FLK', \\\n",
    "           'VEN', 'JAM', 'HON', 'ECU', 'ESA', 'BAR', 'GRN', 'URU', 'PAR', 'TCA', 'TRI']\n",
    "asia = ['JPN', 'NZL', 'PER', 'AUS', 'MAS', 'PHI', 'SIN', 'CHN', 'TWN', 'HKG', 'IND',\\\n",
    "        'UAE', 'KOR', 'THA', 'ISR', 'KSA', 'NCA', 'INA', 'KUW', 'MGL']\n",
    "europe = ['ITA', 'NED', 'IRL', 'GBR', 'ESP', 'SUI', 'NOR', 'POL', 'FRA', 'RUS', 'POR', 'BEL', 'DEN', 'AUT',\\\n",
    "          'SLO', 'EST', 'TUR', 'SWE', 'FIN', 'LTU', 'GER', 'CRO', 'ISL', 'LUX', 'SRB', 'CZE', 'MLT', 'HUN',\\\n",
    "          'ROU', 'LAT', 'UKR', 'SMR', 'BUL', 'SVK', 'AND', 'GRE']\n",
    "data['Region'] = 'NA'"
   ]
  },
  {
   "cell_type": "code",
   "execution_count": 16,
   "metadata": {},
   "outputs": [
    {
     "data": {
      "text/plain": [
       "0     Africa\n",
       "1    America\n",
       "2       Asia\n",
       "3    America\n",
       "4     Africa\n",
       "5    America\n",
       "6    America\n",
       "7     Africa\n",
       "8    America\n",
       "9    America\n",
       "Name: Region, dtype: object"
      ]
     },
     "execution_count": 16,
     "metadata": {},
     "output_type": "execute_result"
    }
   ],
   "source": [
    "data.loc[data['Country'].isin(africa), 'Region'] = \"Africa\"\n",
    "data.loc[data['Country'].isin(america), 'Region'] = \"America\"\n",
    "data.loc[data['Country'].isin(asia), 'Region'] = \"Asia\"\n",
    "data.loc[data['Country'].isin(europe), 'Region'] = \"Europe\"\n",
    "data.Region.head(10)"
   ]
  },
  {
   "cell_type": "code",
   "execution_count": 17,
   "metadata": {},
   "outputs": [
    {
     "data": {
      "text/plain": [
       "array(['Africa', 'America', 'Asia', 'Europe'], dtype=object)"
      ]
     },
     "execution_count": 17,
     "metadata": {},
     "output_type": "execute_result"
    }
   ],
   "source": [
    "data.Region.unique()"
   ]
  },
  {
   "cell_type": "code",
   "execution_count": 18,
   "metadata": {},
   "outputs": [
    {
     "name": "stdout",
     "output_type": "stream",
     "text": [
      "Region\n",
      "Africa     217.457333\n",
      "America    238.234973\n",
      "Asia       244.069313\n",
      "Europe     232.837971\n",
      "Name: Time_Minutes, dtype: float64\n"
     ]
    },
    {
     "data": {
      "text/plain": [
       "<matplotlib.axes._subplots.AxesSubplot at 0x1157c7588>"
      ]
     },
     "execution_count": 18,
     "metadata": {},
     "output_type": "execute_result"
    },
    {
     "data": {
      "image/png": "[encoded data removed]",
      "text/plain": [
       "<Figure size 432x288 with 1 Axes>"
      ]
     },
     "metadata": {},
     "output_type": "display_data"
    }
   ],
   "source": [
    "Region_time = data.groupby('Region')['Time_Minutes'].mean()\n",
    "print(Region_time)\n",
    "sns.barplot(x = Region_time.index, y = Region_time)"
   ]
  },
  {
   "cell_type": "code",
   "execution_count": 19,
   "metadata": {},
   "outputs": [
    {
     "data": {
      "text/plain": [
       "F_onewayResult(statistic=19.821127770662194, pvalue=7.905385082662423e-13)"
      ]
     },
     "execution_count": 19,
     "metadata": {},
     "output_type": "execute_result"
    }
   ],
   "source": [
    "# Regions are significantly different.\n",
    "stats.f_oneway(data[data['Region'] == \"Africa\"]['Time_Minutes'], data[data['Region'] == \"America\"]['Time_Minutes'], \\\n",
    "               data[data['Region'] == \"Asia\"]['Time_Minutes'], data[data['Region'] == \"Europe\"]['Time_Minutes'])"
   ]
  },
  {
   "cell_type": "markdown",
   "metadata": {},
   "source": [
    "## Part3: Data modeling:"
   ]
  },
  {
   "cell_type": "code",
   "execution_count": 20,
   "metadata": {},
   "outputs": [
    {
     "name": "stdout",
     "output_type": "stream",
     "text": [
      "       Unnamed: 0    Bib                      Name  Age              City  \\\n",
      "0               0     11           Kirui, Geoffrey   24          Keringet   \n",
      "1               1     17               Rupp, Galen   30          Portland   \n",
      "2               2     23             Osako, Suguru   25      Machida-City   \n",
      "3               3     21          Biwott, Shadrack   32     Mammoth Lakes   \n",
      "4               4      9            Chebet, Wilson   31          Marakwet   \n",
      "5               5     15          Abdirahman, Abdi   40           Phoenix   \n",
      "6               6     63        Maiyo, Augustus K.   33  Colorado Springs   \n",
      "7               7      7               Sefir, Dino   28       Addis Ababa   \n",
      "8               8     18            Puskedra, Luke   27            Eugene   \n",
      "9               9     20               Ward, Jared   28         Kaysville   \n",
      "10             10     22             Quigley, Sean   32         Braintree   \n",
      "11             11      6            Tsegay, Yemane   32       Addis Ababa   \n",
      "12             12     14           Keflezighi, Meb   41         San Diego   \n",
      "13             13     16         Nyasango, Cutbert   34            Harara   \n",
      "14             14     10             Korir, Wesley   34            Kitale   \n",
      "15             15     35          Puzey, Thomas R.   32         Flagstaff   \n",
      "16             16     76             Kisri, Rachid   41  Briarcliff Manor   \n",
      "17             17      3           Mutai, Emmanuel   32            Lessos   \n",
      "18             18     30           Ndhlovu, Pardon   29             Vilas   \n",
      "19             19     31             Harvey, Brian   29            Boston   \n",
      "20             20     F3            Kiplagat, Edna   37       Uasin Gishu   \n",
      "21             21     81  Chipsiya, Christopher K.   42         Zacatecas   \n",
      "22             22    101             Mindel, Scott   30         Arlington   \n",
      "23             23    F11             Chelimo, Rose   27            Manama   \n",
      "24             24    F23             Hasay, Jordan   25         Beaverton   \n",
      "25             25    182             Place, Ryan J   31         Cambridge   \n",
      "26             26     33            Humphrey, Luke   36     Beverly Hills   \n",
      "27             27     28                Ashe, Eric   28            Boston   \n",
      "28             28     53    Thompson, Christian C.   28       Chattanooga   \n",
      "29             29     43          Maravilla, Jorge   39       Mill Valley   \n",
      "...           ...    ...                       ...  ...               ...   \n",
      "26380       26380  25779       Nijensohn, Lynda A.   42         Wellesley   \n",
      "26381       26381  24894        Staveley, Patricia   60           Calgary   \n",
      "26382       26382  23144             Fong, Sut Sam   48         Hong Kong   \n",
      "26383       26383  25182               Trang, Danh   30     San Francisco   \n",
      "26384       26384  26163         Prario, Austin D.   19        Mapleville   \n",
      "26385       26385  26889        Welch, Jennifer E.   37            Boston   \n",
      "26386       26386  26873             Wolff, Eli A.   39            Newton   \n",
      "26387       26387  23458        Pulido, Jose I Sr.   66            Bogota   \n",
      "26388       26388  25179            Solberg, Bryon   55         San Diego   \n",
      "26389       26389  25265            Picard, Hector   50   Fort Lauderdale   \n",
      "26390       26390  28988            Taylor, Robert   56     Ft Lauderdale   \n",
      "26391       26391   6893             Ueda, Akifumi   58        Himeji-Shi   \n",
      "26392       26392  10603           Ferry, J. Alain   45            Boston   \n",
      "26393       26393  27054        Weisberg, Scott R.   47        Birmingham   \n",
      "26394       26394   6170           Morris, Sheldon   44        Springhill   \n",
      "26395       26395   4631            Choon Hon, Lim   33         Singapore   \n",
      "26396       26396  25262        Caesar, Candice L.   44            Fresno   \n",
      "26397       26397  15536        Coffman, Steven D.   69     East Sandwich   \n",
      "26398       26398  14851           Scholtz, Theo E   70             Wylie   \n",
      "26399       26399  25263            Luckett, Kelly   49          Savannah   \n",
      "26400       26400   2605         Mederos, Jonathan   32       South Miami   \n",
      "26401       26401  15547       Elliott, Gregory J.   68           Chicago   \n",
      "26402       26402   3070       Galbraith, Jordan M   30          Cardston   \n",
      "26403       26403  31283          Leroy, Stefan M.   25           Jupiter   \n",
      "26404       26404  25141            Quinn, Adam H.   19           Belmont   \n",
      "26405       26405  25166  Steinbach, Paula Eyvonne   61           Ontario   \n",
      "26406       26406  25178        Avelino, Andrew R.   25      Fayetteville   \n",
      "26407       26407  27086           Hantel, Johanna   57           Malvern   \n",
      "26408       26408  25268              Reilly, Bill   64          New York   \n",
      "26409       26409  25266             Rigsby, Scott   48        Alpharetta   \n",
      "\n",
      "      State Country Citizen Unnamed: 9       5K      ...      Division  \\\n",
      "0       NaN     KEN     NaN        NaN  0:15:25      ...             1   \n",
      "1        OR     USA     NaN        NaN  0:15:24      ...             2   \n",
      "2       NaN     JPN     NaN        NaN  0:15:25      ...             3   \n",
      "3        CA     USA     NaN        NaN  0:15:25      ...             4   \n",
      "4       NaN     KEN     NaN        NaN  0:15:25      ...             5   \n",
      "5        AZ     USA     NaN        NaN  0:15:25      ...             1   \n",
      "6        CO     USA     NaN        NaN  0:15:25      ...             6   \n",
      "7       NaN     ETH     NaN        NaN  0:15:24      ...             7   \n",
      "8        OR     USA     NaN        NaN  0:15:24      ...             8   \n",
      "9        UT     USA     NaN        NaN  0:15:25      ...             9   \n",
      "10       MA     USA     NaN        NaN  0:15:25      ...            10   \n",
      "11      NaN     ETH     NaN        NaN  0:15:24      ...            11   \n",
      "12       CA     USA     NaN        NaN  0:15:24      ...             2   \n",
      "13      NaN     ZIM     NaN        NaN  0:15:26      ...            12   \n",
      "14      NaN     KEN     NaN        NaN  0:15:24      ...            13   \n",
      "15       AZ     USA     NaN        NaN  0:16:23      ...            14   \n",
      "16       NY     USA     MAR        NaN  0:15:24      ...             3   \n",
      "17      NaN     KEN     NaN        NaN  0:15:24      ...            15   \n",
      "18       NC     USA     ZIM        NaN  0:15:40      ...            16   \n",
      "19       MA     USA     NaN        NaN  0:16:10      ...            17   \n",
      "20      NaN     KEN     NaN        NaN  0:17:46      ...             1   \n",
      "21      NaN     MEX     KEN        NaN  0:15:25      ...             4   \n",
      "22       MA     USA     NaN        NaN  0:16:38      ...            18   \n",
      "23      NaN     BRN     NaN        NaN  0:17:45      ...             2   \n",
      "24       OR     USA     NaN        NaN  0:17:45      ...             3   \n",
      "25       MA     USA     NaN        NaN  0:16:28      ...            19   \n",
      "26       MI     USA     NaN        NaN  0:16:31      ...            20   \n",
      "27       MA     USA     NaN        NaN  0:16:37      ...            21   \n",
      "28       TN     USA     NaN        NaN  0:16:20      ...            22   \n",
      "29       CA     USA     NaN        NaN  0:16:37      ...            23   \n",
      "...     ...     ...     ...        ...      ...      ...           ...   \n",
      "26380    MA     USA     NaN        NaN  0:34:14      ...          1853   \n",
      "26381    AB     CAN     NaN        NaN  0:35:07      ...           343   \n",
      "26382   NaN     HKG     NaN        NaN  0:33:30      ...          1862   \n",
      "26383    CA     USA     NaN         MI  0:35:53      ...          4766   \n",
      "26384    RI     USA     NaN        NaN  0:33:35      ...          4767   \n",
      "26385    MA     USA     NaN        NaN  0:33:59      ...          5846   \n",
      "26386    MA     USA     NaN         MI  0:34:01      ...          4768   \n",
      "26387   NaN     COL     NaN        NaN  0:29:35      ...           424   \n",
      "26388    CA     USA     NaN         MI  0:40:07      ...          1535   \n",
      "26389    FL     USA     NaN         MI  0:36:17      ...          1945   \n",
      "26390    FL     USA     NaN        NaN  0:36:18      ...          1536   \n",
      "26391   NaN     JPN     NaN        NaN  0:28:48      ...          1537   \n",
      "26392    MA     USA     NaN        NaN  0:39:15      ...          2551   \n",
      "26393    AL     USA     NaN        NaN  0:46:41      ...          2552   \n",
      "26394    NS     CAN     NaN        NaN  0:38:29      ...          1988   \n",
      "26395   NaN     SIN     NaN        NaN  0:38:23      ...          4769   \n",
      "26396    TX     USA     NaN         MI  0:35:47      ...          1854   \n",
      "26397    MA     USA     NaN        NaN  0:32:14      ...           425   \n",
      "26398    TX     USA     NaN        NaN  0:25:32      ...           138   \n",
      "26399    GA     USA     NaN         MI  0:42:31      ...          1863   \n",
      "26400    FL     USA     NaN        NaN  0:20:55      ...          4770   \n",
      "26401    IL     USA     NaN        NaN  0:32:16      ...           426   \n",
      "26402    AB     CAN     NaN        NaN  0:23:10      ...          4771   \n",
      "26403    FL     USA     NaN         MI  0:39:58      ...          4772   \n",
      "26404    MI     USA     NaN         MI  0:35:14      ...          4773   \n",
      "26405    CA     USA     NaN         MI  0:46:44      ...           344   \n",
      "26406    NC     USA     NaN         MI  0:32:03      ...          4774   \n",
      "26407    PA     USA     NaN        NaN  0:53:11      ...           698   \n",
      "26408    NY     USA     NaN         MI  0:40:34      ...          1043   \n",
      "26409    GA     USA     NaN         MI  0:39:36      ...          2553   \n",
      "\n",
      "      Time_Minutes Pace_Time_Seconds US Gender_F Gender_M Region_Africa  \\\n",
      "0       129.616667               297  0        0        1             1   \n",
      "1       129.966667               298  1        0        1             0   \n",
      "2       130.466667               299  0        0        1             0   \n",
      "3       132.133333               303  1        0        1             0   \n",
      "4       132.583333               304  0        0        1             1   \n",
      "5       132.750000               304  1        0        1             0   \n",
      "6       133.266667               305  1        0        1             0   \n",
      "7       134.433333               308  0        0        1             1   \n",
      "8       134.750000               309  1        0        1             0   \n",
      "9       135.466667               311  1        0        1             0   \n",
      "10      135.566667               311  1        0        1             0   \n",
      "11      136.783333               314  0        0        1             1   \n",
      "12      137.000000               314  1        0        1             0   \n",
      "13      137.666667               316  0        0        1             1   \n",
      "14      138.233333               317  0        0        1             1   \n",
      "15      138.333333               317  1        0        1             0   \n",
      "16      138.533333               318  1        0        1             0   \n",
      "17      139.550000               320  0        0        1             1   \n",
      "18      140.200000               321  1        0        1             0   \n",
      "19      140.300000               322  1        0        1             0   \n",
      "20      141.866667               325  0        1        0             1   \n",
      "21      142.333333               326  0        0        1             0   \n",
      "22      142.533333               327  1        0        1             0   \n",
      "23      142.850000               327  0        1        0             1   \n",
      "24      143.000000               328  1        1        0             0   \n",
      "25      143.083333               328  1        0        1             0   \n",
      "26      143.200000               328  1        0        1             0   \n",
      "27      143.433333               329  1        0        1             0   \n",
      "28      143.850000               330  1        0        1             0   \n",
      "29      144.450000               331  1        0        1             0   \n",
      "...            ...               ... ..      ...      ...           ...   \n",
      "26380   369.633333               846  1        1        0             0   \n",
      "26381   370.316667               848  0        1        0             0   \n",
      "26382   373.433333               855  0        1        0             0   \n",
      "26383   373.433333               855  1        0        1             0   \n",
      "26384   374.083333               857  1        0        1             0   \n",
      "26385   376.066667               861  1        1        0             0   \n",
      "26386   376.083333               861  1        0        1             0   \n",
      "26387   376.833333               863  0        0        1             0   \n",
      "26388   376.933333               863  1        0        1             0   \n",
      "26389   382.216667               875  1        0        1             0   \n",
      "26390   382.216667               875  1        0        1             0   \n",
      "26391   384.050000               879  0        0        1             0   \n",
      "26392   386.516667               885  1        0        1             0   \n",
      "26393   387.166667               887  1        0        1             0   \n",
      "26394   393.066667               900  0        0        1             0   \n",
      "26395   397.800000               911  0        0        1             0   \n",
      "26396   398.416667               912  1        1        0             0   \n",
      "26397   402.066667               921  1        0        1             0   \n",
      "26398   404.816667               927  1        0        1             0   \n",
      "26399   406.500000               931  1        1        0             0   \n",
      "26400   407.233333               932  1        0        1             0   \n",
      "26401   410.583333               940  1        0        1             0   \n",
      "26402   412.166667               944  0        0        1             0   \n",
      "26403   416.183333               953  1        0        1             0   \n",
      "26404   424.550000               972  1        0        1             0   \n",
      "26405   429.650000               984  1        1        0             0   \n",
      "26406   436.983333              1000  1        0        1             0   \n",
      "26407   439.616667              1007  1        1        0             0   \n",
      "26408   440.733333              1009  1        0        1             0   \n",
      "26409   478.233333              1095  1        0        1             0   \n",
      "\n",
      "      Region_America Region_Asia Region_Europe  \n",
      "0                  0           0             0  \n",
      "1                  1           0             0  \n",
      "2                  0           1             0  \n",
      "3                  1           0             0  \n",
      "4                  0           0             0  \n",
      "5                  1           0             0  \n",
      "6                  1           0             0  \n",
      "7                  0           0             0  \n",
      "8                  1           0             0  \n",
      "9                  1           0             0  \n",
      "10                 1           0             0  \n",
      "11                 0           0             0  \n",
      "12                 1           0             0  \n",
      "13                 0           0             0  \n",
      "14                 0           0             0  \n",
      "15                 1           0             0  \n",
      "16                 1           0             0  \n",
      "17                 0           0             0  \n",
      "18                 1           0             0  \n",
      "19                 1           0             0  \n",
      "20                 0           0             0  \n",
      "21                 1           0             0  \n",
      "22                 1           0             0  \n",
      "23                 0           0             0  \n",
      "24                 1           0             0  \n",
      "25                 1           0             0  \n",
      "26                 1           0             0  \n",
      "27                 1           0             0  \n",
      "28                 1           0             0  \n",
      "29                 1           0             0  \n",
      "...              ...         ...           ...  \n",
      "26380              1           0             0  \n",
      "26381              1           0             0  \n",
      "26382              0           1             0  \n",
      "26383              1           0             0  \n",
      "26384              1           0             0  \n",
      "26385              1           0             0  \n",
      "26386              1           0             0  \n",
      "26387              1           0             0  \n",
      "26388              1           0             0  \n",
      "26389              1           0             0  \n",
      "26390              1           0             0  \n",
      "26391              0           1             0  \n",
      "26392              1           0             0  \n",
      "26393              1           0             0  \n",
      "26394              1           0             0  \n",
      "26395              0           1             0  \n",
      "26396              1           0             0  \n",
      "26397              1           0             0  \n",
      "26398              1           0             0  \n",
      "26399              1           0             0  \n",
      "26400              1           0             0  \n",
      "26401              1           0             0  \n",
      "26402              1           0             0  \n",
      "26403              1           0             0  \n",
      "26404              1           0             0  \n",
      "26405              1           0             0  \n",
      "26406              1           0             0  \n",
      "26407              1           0             0  \n",
      "26408              1           0             0  \n",
      "26409              1           0             0  \n",
      "\n",
      "[26410 rows x 33 columns]\n"
     ]
    }
   ],
   "source": [
    "# Making a dummy variables \n",
    "\n",
    "linear_model_data = pd.get_dummies(data, prefix='Gender', columns=['M/F'])\n",
    "linear_model_data = pd.get_dummies(linear_model_data, prefix = 'Region', columns = ['Region'])\n",
    "linear_model_data = pd.DataFrame(linear_model_data)\n",
    "print(linear_model_data)"
   ]
  },
  {
   "cell_type": "code",
   "execution_count": 21,
   "metadata": {},
   "outputs": [],
   "source": [
    "marathon_model = LinearRegression(fit_intercept= True)\n",
    "X =linear_model_data.loc[:, ['Age', 'Gender_M', 'Region_Africa', 'Region_Asia', 'Region_America']]"
   ]
  },
  {
   "cell_type": "code",
   "execution_count": 22,
   "metadata": {},
   "outputs": [
    {
     "name": "stderr",
     "output_type": "stream",
     "text": [
      "/Library/Frameworks/Python.framework/Versions/3.6/lib/python3.6/site-packages/scipy/linalg/basic.py:1226: RuntimeWarning: internal gelsd driver lwork query error, required iwork dimension not returned. This is likely the result of LAPACK bug 0038, fixed in LAPACK 3.2.2 (released July 21, 2010). Falling back to 'gelss' driver.\n",
      "  warnings.warn(mesg, RuntimeWarning)\n"
     ]
    },
    {
     "data": {
      "text/plain": [
       "LinearRegression(copy_X=True, fit_intercept=True, n_jobs=1, normalize=False)"
      ]
     },
     "execution_count": 22,
     "metadata": {},
     "output_type": "execute_result"
    }
   ],
   "source": [
    "marathon_model.fit(X, linear_model_data.Time_Minutes)"
   ]
  },
  {
   "cell_type": "code",
   "execution_count": 23,
   "metadata": {},
   "outputs": [
    {
     "data": {
      "text/plain": [
       "array([  1.06037351, -25.22735737, -15.90089289,   8.21084013,\n",
       "         3.18486931])"
      ]
     },
     "execution_count": 23,
     "metadata": {},
     "output_type": "execute_result"
    }
   ],
   "source": [
    "marathon_model.coef_"
   ]
  },
  {
   "cell_type": "code",
   "execution_count": 24,
   "metadata": {},
   "outputs": [
    {
     "name": "stdout",
     "output_type": "stream",
     "text": [
      "                            OLS Regression Results                            \n",
      "==============================================================================\n",
      "Dep. Variable:           Time_Minutes   R-squared:                       0.137\n",
      "Model:                            OLS   Adj. R-squared:                  0.137\n",
      "Method:                 Least Squares   F-statistic:                     841.2\n",
      "Date:                Tue, 05 Jun 2018   Prob (F-statistic):               0.00\n",
      "Time:                        14:36:36   Log-Likelihood:            -1.3433e+05\n",
      "No. Observations:               26410   AIC:                         2.687e+05\n",
      "Df Residuals:                   26404   BIC:                         2.687e+05\n",
      "Df Model:                           5                                         \n",
      "Covariance Type:            nonrobust                                         \n",
      "==================================================================================\n",
      "                     coef    std err          t      P>|t|      [0.025      0.975]\n",
      "----------------------------------------------------------------------------------\n",
      "const            203.5639      1.356    150.119      0.000     200.906     206.222\n",
      "Age                1.0604      0.022     48.962      0.000       1.018       1.103\n",
      "Gender_M         -25.2274      0.498    -50.653      0.000     -26.204     -24.251\n",
      "Region_Africa    -15.9009      5.616     -2.832      0.005     -26.908      -4.894\n",
      "Region_Asia        8.2108      1.556      5.276      0.000       5.160      11.261\n",
      "Region_America     3.1849      0.979      3.253      0.001       1.266       5.104\n",
      "==============================================================================\n",
      "Omnibus:                     4059.126   Durbin-Watson:                   0.237\n",
      "Prob(Omnibus):                  0.000   Jarque-Bera (JB):             6364.551\n",
      "Skew:                           1.082   Prob(JB):                         0.00\n",
      "Kurtosis:                       4.051   Cond. No.                     1.03e+03\n",
      "==============================================================================\n",
      "\n",
      "Warnings:\n",
      "[1] Standard Errors assume that the covariance matrix of the errors is correctly specified.\n",
      "[2] The condition number is large, 1.03e+03. This might indicate that there are\n",
      "strong multicollinearity or other numerical problems.\n"
     ]
    }
   ],
   "source": [
    "X2 = sm.add_constant(X)\n",
    "est = sm.OLS(data.Time_Minutes, X2)\n",
    "est2 = est.fit()\n",
    "print(est2.summary())"
   ]
  },
  {
   "cell_type": "code",
   "execution_count": 25,
   "metadata": {},
   "outputs": [
    {
     "data": {
      "image/png": "[encoded data removed]",
      "text/plain": [
       "<Figure size 432x288 with 1 Axes>"
      ]
     },
     "metadata": {},
     "output_type": "display_data"
    }
   ],
   "source": [
    "yhat = marathon_model.predict(X)\n",
    "plt.plot(yhat, data.Time_Minutes, 'o')\n",
    "plt.xlabel('predicted')\n",
    "plt.ylabel('actual')\n",
    "plt.show()"
   ]
  }
 ],
 "metadata": {
  "kernelspec": {
   "display_name": "Python 3",
   "language": "python",
   "name": "python3"
  },
  "language_info": {
   "codemirror_mode": {
    "name": "ipython",
    "version": 3
   },
   "file_extension": ".py",
   "mimetype": "text/x-python",
   "name": "python",
   "nbconvert_exporter": "python",
   "pygments_lexer": "ipython3",
   "version": "3.6.5"
  }
 },
 "nbformat": 4,
 "nbformat_minor": 2
}
