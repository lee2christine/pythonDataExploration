{
 "cells": [
  {
   "cell_type": "markdown",
   "metadata": {},
   "source": [
    "## Overview:\n",
    "\n",
    "#### The Boston Marathon is an annual marathon hosted by several cities in greater Boston in eastern Massachusetts, United States. Our data is ** Finishers Boston Marathon 2017**. It contains 26410 rows and 25 variables. \n"
   ]
  },
  {
   "cell_type": "markdown",
   "metadata": {},
   "source": [
    "## In this analysis, we are doing:\n",
    "* Data description\n",
    "* Exploratory data analysis\n",
    "* Data modeling"
   ]
  },
  {
   "cell_type": "markdown",
   "metadata": {},
   "source": [
    "## Part1: Data Description:\n"
   ]
  },
  {
   "cell_type": "markdown",
   "metadata": {},
   "source": [
    "### * Content:\n",
    "The data is downloaded from Kaggle. According to their offical data information from this website: *http://registration.baa.org/2017/cf/Public/iframe_Statistics.htmThe* we know that 97% of participants finished the marathon. \n",
    "variable in this data set are: *Name, Age, Gender, Country, City and State (where available), Times at 9 different stages of the race, expected time, Finish time and Pace, Overall place, Gender place and Division place*.\n",
    "\n",
    "### * Description:\n",
    "The data has 25 different variables: *Name, Age, Gender, Country, City and State (where available), Times at 9 different stages of the race, expected time, Finish time and Pace, Overall place, Gender place and Division place*.\n"
   ]
  },
  {
   "cell_type": "markdown",
   "metadata": {},
   "source": [
    "## Part2：Exploratory Data Analysis:"
   ]
  },
  {
   "cell_type": "code",
   "execution_count": 1,
   "metadata": {},
   "outputs": [],
   "source": [
    "#import necessary libraries\n",
    "import numpy as np\n",
    "import pandas as pd\n",
    "import datetime as DT\n",
    "import matplotlib.pyplot as plt\n",
    "import seaborn as sns"
   ]
  },
  {
   "cell_type": "code",
   "execution_count": 2,
   "metadata": {},
   "outputs": [
    {
     "name": "stdout",
     "output_type": "stream",
     "text": [
      "(26410, 25)\n",
      "<class 'pandas.core.frame.DataFrame'>\n",
      "RangeIndex: 26410 entries, 0 to 26409\n",
      "Data columns (total 25 columns):\n",
      "Unnamed: 0       26410 non-null int64\n",
      "Bib              26410 non-null object\n",
      "Name             26410 non-null object\n",
      "Age              26410 non-null int64\n",
      "M/F              26410 non-null object\n",
      "City             26410 non-null object\n",
      "State            22815 non-null object\n",
      "Country          26410 non-null object\n",
      "Citizen          1254 non-null object\n",
      "Unnamed: 9       91 non-null object\n",
      "5K               26410 non-null object\n",
      "10K              26410 non-null object\n",
      "15K              26410 non-null object\n",
      "20K              26410 non-null object\n",
      "Half             26410 non-null object\n",
      "25K              26410 non-null object\n",
      "30K              26410 non-null object\n",
      "35K              26410 non-null object\n",
      "40K              26410 non-null object\n",
      "Pace             26410 non-null object\n",
      "Proj Time        26410 non-null object\n",
      "Official Time    26410 non-null object\n",
      "Overall          26410 non-null int64\n",
      "Gender           26410 non-null int64\n",
      "Division         26410 non-null int64\n",
      "dtypes: int64(5), object(20)\n",
      "memory usage: 5.0+ MB\n",
      "None\n",
      "         Unnamed: 0           Age       Overall        Gender      Division\n",
      "count  26410.000000  26410.000000  26410.000000  26410.000000  26410.000000\n",
      "mean   13204.500000     42.587732  13206.260091   6660.973230   1588.796706\n",
      "std     7624.054641     11.419467   7624.370496   3910.031525   1423.199500\n",
      "min        0.000000     18.000000      1.000000      1.000000      1.000000\n",
      "25%     6602.250000     34.000000   6604.250000   3302.250000    502.000000\n",
      "50%    13204.500000     43.000000  13206.500000   6603.500000   1154.000000\n",
      "75%    19806.750000     51.000000  19808.750000   9904.750000   2190.750000\n",
      "max    26409.000000     84.000000  26411.000000  14438.000000   5846.000000\n"
     ]
    }
   ],
   "source": [
    "data = pd.read_csv('marathon_results_2017.csv')\n",
    "print(data.shape)\n",
    "print(data.info())\n",
    "print(data.describe())\n",
    "# as we can see, there is 26410 rows and 25 variables,\n",
    "#not many NaN values."
   ]
  },
  {
   "cell_type": "code",
   "execution_count": 3,
   "metadata": {},
   "outputs": [
    {
     "data": {
      "image/png": "[encoded data removed]",
      "text/plain": [
       "<matplotlib.figure.Figure at 0x115422198>"
      ]
     },
     "metadata": {},
     "output_type": "display_data"
    },
    {
     "data": {
      "text/plain": [
       "Text(0.5,1,'Participation in 2017')"
      ]
     },
     "execution_count": 3,
     "metadata": {},
     "output_type": "execute_result"
    },
    {
     "data": {
      "image/png": "[encoded data removed]",
      "text/plain": [
       "<matplotlib.figure.Figure at 0x112fd70f0>"
      ]
     },
     "metadata": {},
     "output_type": "display_data"
    }
   ],
   "source": [
    "plt.hist(data.Age,color='pink')  #the age varies from 18 to 84 years old.\n",
    "plt.show()\n",
    "g = sns.boxplot(data['M/F'], data['Age'])\n",
    "g.set_title(\"Participation in 2017\")"
   ]
  },
  {
   "cell_type": "code",
   "execution_count": 14,
   "metadata": {},
   "outputs": [
    {
     "data": {
      "text/html": [
       "<div>\n",
       "<style scoped>\n",
       "    .dataframe tbody tr th:only-of-type {\n",
       "        vertical-align: middle;\n",
       "    }\n",
       "\n",
       "    .dataframe tbody tr th {\n",
       "        vertical-align: top;\n",
       "    }\n",
       "\n",
       "    .dataframe thead th {\n",
       "        text-align: right;\n",
       "    }\n",
       "</style>\n",
       "<table border=\"1\" class=\"dataframe\">\n",
       "  <thead>\n",
       "    <tr style=\"text-align: right;\">\n",
       "      <th></th>\n",
       "      <th>Official Time</th>\n",
       "      <th>Time_Minutes</th>\n",
       "    </tr>\n",
       "  </thead>\n",
       "  <tbody>\n",
       "    <tr>\n",
       "      <th>0</th>\n",
       "      <td>2:09:37</td>\n",
       "      <td>129.616667</td>\n",
       "    </tr>\n",
       "    <tr>\n",
       "      <th>1</th>\n",
       "      <td>2:09:58</td>\n",
       "      <td>129.966667</td>\n",
       "    </tr>\n",
       "    <tr>\n",
       "      <th>2</th>\n",
       "      <td>2:10:28</td>\n",
       "      <td>130.466667</td>\n",
       "    </tr>\n",
       "    <tr>\n",
       "      <th>3</th>\n",
       "      <td>2:12:08</td>\n",
       "      <td>132.133333</td>\n",
       "    </tr>\n",
       "    <tr>\n",
       "      <th>4</th>\n",
       "      <td>2:12:35</td>\n",
       "      <td>132.583333</td>\n",
       "    </tr>\n",
       "  </tbody>\n",
       "</table>\n",
       "</div>"
      ],
      "text/plain": [
       "  Official Time  Time_Minutes\n",
       "0       2:09:37    129.616667\n",
       "1       2:09:58    129.966667\n",
       "2       2:10:28    130.466667\n",
       "3       2:12:08    132.133333\n",
       "4       2:12:35    132.583333"
      ]
     },
     "execution_count": 14,
     "metadata": {},
     "output_type": "execute_result"
    }
   ],
   "source": [
    "#convert official finish time format to minutes so we can calculate the speed mean \n",
    "def convert_to_minutes(time):\n",
    "    minutes = time.str.split(':').map(lambda x: int(x[-1]) / 60 + int(x[-2]) + int(x[-3]) * 60)\n",
    "    return minutes\n",
    "data['Time_Minutes'] = convert_to_minutes(data['Official Time'])\n",
    "data.loc[:,['Official Time','Time_Minutes']].head()"
   ]
  },
  {
   "cell_type": "code",
   "execution_count": 15,
   "metadata": {},
   "outputs": [
    {
     "name": "stdout",
     "output_type": "stream",
     "text": [
      "10    255.197090\n",
      "20    232.576644\n",
      "30    228.135193\n",
      "40    235.063972\n",
      "50    246.556823\n",
      "60    265.788384\n",
      "70    292.434007\n",
      "80    296.754762\n",
      "Name: Time_Minutes, dtype: float64\n"
     ]
    }
   ],
   "source": [
    "#Calcualte mean of finish time for each age group\n",
    "time = data.loc[:,['Time_Minutes']]\n",
    "decade = pd.cut(data.Age,bins=np.arange(10,99,10),right=False)\n",
    "time[\"DECADE\"] = decade\n",
    "summary = time.groupby('DECADE')['Time_Minutes'].mean()\n",
    "summary.index = np.arange(10,90,10) \n",
    "print(summary)   \n",
    "#fastest group is 30-39 years old"
   ]
  },
  {
   "cell_type": "markdown",
   "metadata": {},
   "source": [
    "## Top 15 Fastest Countries"
   ]
  },
  {
   "cell_type": "code",
   "execution_count": 98,
   "metadata": {},
   "outputs": [
    {
     "data": {
      "text/plain": [
       "<matplotlib.axes._subplots.AxesSubplot at 0x117270a90>"
      ]
     },
     "execution_count": 98,
     "metadata": {},
     "output_type": "execute_result"
    },
    {
     "data": {
      "image/png": "[encoded data removed]",
      "text/plain": [
       "<Figure size 432x288 with 1 Axes>"
      ]
     },
     "metadata": {},
     "output_type": "display_data"
    }
   ],
   "source": [
    "top_15_countries = data.groupby(\"Country\")['Time_Minutes'].mean().nsmallest(15)\n",
    "\n",
    "top15_countries = data.loc[data['Country'].isin(np.array(top_15_countries.index))]\n",
    "top15_countries = top15_countries.groupby('Country')['Time_Minutes'].mean()\n",
    "top15_countries = pd.DataFrame(top15_countries)\n",
    "top15_countries = top15_con.sort_values(['Time_Minutes'])\n",
    "sns.barplot(x = top15_con.index, y = top15_con.Time_Minutes)"
   ]
  },
  {
   "cell_type": "markdown",
   "metadata": {},
   "source": [
    "## Worst 15 Countries"
   ]
  },
  {
   "cell_type": "code",
   "execution_count": 97,
   "metadata": {},
   "outputs": [
    {
     "data": {
      "text/plain": [
       "<matplotlib.axes._subplots.AxesSubplot at 0x1172134a8>"
      ]
     },
     "execution_count": 97,
     "metadata": {},
     "output_type": "execute_result"
    },
    {
     "data": {
      "image/png": "[encoded data removed]",
      "text/plain": [
       "<Figure size 432x288 with 1 Axes>"
      ]
     },
     "metadata": {},
     "output_type": "display_data"
    }
   ],
   "source": [
    "worst_15_countries = data.groupby(\"Country\")['Time_Minutes'].mean().nlargest(15)\n",
    "\n",
    "worst15_countries = data.loc[data['Country'].isin(np.array(worst_15_countries.index))]\n",
    "worst15_countries = worst15_countries.groupby('Country')['Time_Minutes'].mean()\n",
    "worst15_countries = pd.DataFrame(worst15_countries)\n",
    "worst15_countries = worst15_countries.sort_values(['Time_Minutes'])\n",
    "sns.barplot(x = worst15_countries.index, y = worst15_countries.Time_Minutes)"
   ]
  },
  {
   "cell_type": "code",
   "execution_count": null,
   "metadata": {},
   "outputs": [],
   "source": []
  },
  {
   "cell_type": "code",
   "execution_count": null,
   "metadata": {},
   "outputs": [],
   "source": []
  },
  {
   "cell_type": "code",
   "execution_count": null,
   "metadata": {},
   "outputs": [],
   "source": []
  },
  {
   "cell_type": "code",
   "execution_count": null,
   "metadata": {},
   "outputs": [],
   "source": []
  },
  {
   "cell_type": "markdown",
   "metadata": {},
   "source": [
    "## Part3: Data modeling:"
   ]
  },
  {
   "cell_type": "code",
   "execution_count": null,
   "metadata": {},
   "outputs": [],
   "source": []
  }
 ],
 "metadata": {
  "kernelspec": {
   "display_name": "Python 3",
   "language": "python",
   "name": "python3"
  },
  "language_info": {
   "codemirror_mode": {
    "name": "ipython",
    "version": 3
   },
   "file_extension": ".py",
   "mimetype": "text/x-python",
   "name": "python",
   "nbconvert_exporter": "python",
   "pygments_lexer": "ipython3",
   "version": "3.6.5"
  }
 },
 "nbformat": 4,
 "nbformat_minor": 2
}
