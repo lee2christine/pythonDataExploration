{
 "cells": [
  {
   "cell_type": "markdown",
   "metadata": {},
   "source": [
    "## Context and Description\n",
    "* Background Information\n",
    "\n",
    " This dataset is from the Boston Marathon of 2017; it contains information about the participants and their finish times in different time interval. The Boston Marathon is an annual marathon hosted by several cities in greater Boston in eastern Massachusetts, United States. The Finishers Boston Marathon 2017 dataset was found on Kaggle. \n",
    " \n",
    " \n",
    "* Information about Data Collection\n",
    " \n",
    " The official Boston Marathon organization collected the data for the race in 2017. On April 17, 2017, the Boston Marathon was held and the finish times and division placements were recorded. A marathon timing chip was used to record all the timings. The demographic information was collected through the registration process. An implication that comes with using chip technology is that there is a chance that the registered chip does not match the marathon participant.\n",
    "\n"
   ]
  },
  {
   "cell_type": "markdown",
   "metadata": {},
   "source": [
    "### Exploratory Analysis\n",
    "* Summary Statistics\n",
    "\n",
    "  This dataset contains 26410 rows and 25 variables. “It contains the name, age, gender, country, city and state (where available), times at 9 different stages of the race, expected time, finish time and pace, overall place, gender place and division place” (Kaggle). The dataset is clean. There are only some NaN in \"Citizen\" variables, but for other variables, all of them contains valid values. In our analysis, we did not use the variable \"Citizen\" since it does not give any useful insights of our analysis. \n",
    "  \n",
    "  \n",
    "* Unusual Features\n",
    "\n",
    "  Since the \"Country\" variable has too many levels, we decide to recode this variable down to 2 levels: \"1\" for US participants, \"0\" otherwise, we want to see if there is significant difference in finish time for people from US and outside from US. For further analysis, we also divided countries into 4 categories: Asia, Africa, America, and Europe. To build a model, we have to create dummy variables. One of the categories is going to be baseline and the other categories will be filled with “0” or “1” depending on the nationality of participants. By One way - ANOVA test, we can see that the Region makes difference in finish time significantly. Also, we have made “Gender” a dummy variable. If a participant is a male, then the “Male” column is filled with “1” and “0” otherwise.\n",
    "\n"
   ]
  },
  {
   "cell_type": "markdown",
   "metadata": {},
   "source": [
    "### Findings:\n",
    "* \n",
    "* \n"
   ]
  },
  {
   "cell_type": "markdown",
   "metadata": {},
   "source": [
    "## Part1: Data Description:\n"
   ]
  },
  {
   "cell_type": "markdown",
   "metadata": {},
   "source": [
    "### Research Questions\n",
    "* What is the difference in finish time (“Time_Minutes”) between US participants and non US participants (“Country”)? \n",
    "* Can the finish time (“Time_Minutes”) be predicted based on the other variables?\n"
   ]
  },
  {
   "cell_type": "markdown",
   "metadata": {},
   "source": [
    "## Part2：Exploratory Data Analysis:"
   ]
  },
  {
   "cell_type": "code",
   "execution_count": 1,
   "metadata": {},
   "outputs": [
    {
     "name": "stderr",
     "output_type": "stream",
     "text": [
      "/Users/ruthyzheng/anaconda3/lib/python3.6/site-packages/statsmodels/compat/pandas.py:56: FutureWarning: The pandas.core.datetools module is deprecated and will be removed in a future version. Please use the pandas.tseries module instead.\n",
      "  from pandas.core import datetools\n"
     ]
    }
   ],
   "source": [
    "#import necessary libraries\n",
    "import numpy as np\n",
    "import pandas as pd\n",
    "import datetime as DT\n",
    "import matplotlib.pyplot as plt\n",
    "import seaborn as sns\n",
    "import scipy.stats as stats\n",
    "from  sklearn.linear_model import LinearRegression\n",
    "import statsmodels.api as sm\n",
    "from statsmodels.stats.outliers_influence import variance_inflation_factor\n",
    "from pygam import LinearGAM\n",
    "from pygam.utils import generate_X_grid\n",
    "from sklearn.model_selection import train_test_split"
   ]
  },
  {
   "cell_type": "code",
   "execution_count": 2,
   "metadata": {},
   "outputs": [
    {
     "name": "stdout",
     "output_type": "stream",
     "text": [
      "(26410, 25)\n",
      "<class 'pandas.core.frame.DataFrame'>\n",
      "RangeIndex: 26410 entries, 0 to 26409\n",
      "Data columns (total 25 columns):\n",
      "Unnamed: 0       26410 non-null int64\n",
      "Bib              26410 non-null object\n",
      "Name             26410 non-null object\n",
      "Age              26410 non-null int64\n",
      "M/F              26410 non-null object\n",
      "City             26410 non-null object\n",
      "State            22815 non-null object\n",
      "Country          26410 non-null object\n",
      "Citizen          1254 non-null object\n",
      "Unnamed: 9       91 non-null object\n",
      "5K               26410 non-null object\n",
      "10K              26410 non-null object\n",
      "15K              26410 non-null object\n",
      "20K              26410 non-null object\n",
      "Half             26410 non-null object\n",
      "25K              26410 non-null object\n",
      "30K              26410 non-null object\n",
      "35K              26410 non-null object\n",
      "40K              26410 non-null object\n",
      "Pace             26410 non-null object\n",
      "Proj Time        26410 non-null object\n",
      "Official Time    26410 non-null object\n",
      "Overall          26410 non-null int64\n",
      "Gender           26410 non-null int64\n",
      "Division         26410 non-null int64\n",
      "dtypes: int64(5), object(20)\n",
      "memory usage: 5.0+ MB\n",
      "None\n",
      "         Unnamed: 0           Age       Overall        Gender      Division\n",
      "count  26410.000000  26410.000000  26410.000000  26410.000000  26410.000000\n",
      "mean   13204.500000     42.587732  13206.260091   6660.973230   1588.796706\n",
      "std     7624.054641     11.419467   7624.370496   3910.031525   1423.199500\n",
      "min        0.000000     18.000000      1.000000      1.000000      1.000000\n",
      "25%     6602.250000     34.000000   6604.250000   3302.250000    502.000000\n",
      "50%    13204.500000     43.000000  13206.500000   6603.500000   1154.000000\n",
      "75%    19806.750000     51.000000  19808.750000   9904.750000   2190.750000\n",
      "max    26409.000000     84.000000  26411.000000  14438.000000   5846.000000\n"
     ]
    }
   ],
   "source": [
    "data = pd.read_csv('marathon_results_2017.csv')\n",
    "print(data.shape)\n",
    "print(data.info())\n",
    "print(data.describe())\n",
    "# as we can see, there is 26410 rows and 25 variables,\n",
    "#not many NaN values."
   ]
  },
  {
   "cell_type": "markdown",
   "metadata": {},
   "source": [
    "# Marathon Participants \n",
    "### 1: By Age\n",
    "### 2: By Gender\n",
    "### 3: By Country(recode)"
   ]
  },
  {
   "cell_type": "code",
   "execution_count": 3,
   "metadata": {},
   "outputs": [
    {
     "name": "stdout",
     "output_type": "stream",
     "text": [
      "  Official Time  Time_Minutes\n",
      "0       2:09:37    129.616667\n",
      "1       2:09:58    129.966667\n",
      "2       2:10:28    130.466667\n",
      "3       2:12:08    132.133333\n",
      "4       2:12:35    132.583333\n",
      "      Pace  Pace_Time_Seconds\n",
      "0  0:04:57                297\n",
      "1  0:04:58                298\n",
      "2  0:04:59                299\n",
      "3  0:05:03                303\n",
      "4  0:05:04                304\n"
     ]
    }
   ],
   "source": [
    "#convert \"official time\" format to minutes, it's easy to calculate \n",
    "def convert_to_minutes(time):\n",
    "    minutes = time.str.split(':').map(lambda x: int(x[-1]) / 60 + int(x[-2]) + int(x[-3]) * 60)\n",
    "    return minutes\n",
    "data['Time_Minutes'] = convert_to_minutes(data['Official Time'])\n",
    "print(data.loc[:,['Official Time','Time_Minutes']].head())\n",
    "\n",
    "# convert \"pace\" format to seconds.\n",
    "\n",
    "def minutes_to_seconds(time):\n",
    "    seconds = time.str[2:4].astype(int) * 60 + time.str[-2:].astype(int)\n",
    "    return seconds\n",
    "data['Pace_Time_Seconds'] = minutes_to_seconds(data['Pace'])\n",
    "print(data.loc[:, ['Pace', 'Pace_Time_Seconds']]. head())"
   ]
  },
  {
   "cell_type": "code",
   "execution_count": 4,
   "metadata": {},
   "outputs": [
    {
     "name": "stdout",
     "output_type": "stream",
     "text": [
      "DECADE\n",
      "[10, 20)    255.197090\n",
      "[20, 30)    232.576644\n",
      "[30, 40)    228.135193\n",
      "[40, 50)    235.063972\n",
      "[50, 60)    246.556823\n",
      "[60, 70)    265.788384\n",
      "[70, 80)    292.434007\n",
      "[80, 90)    296.754762\n",
      "Name: Time_Minutes, dtype: float64\n"
     ]
    }
   ],
   "source": [
    "#Calcualte mean of finish time for each age group\n",
    "time = data.loc[:,['Time_Minutes','M/F']]\n",
    "decade = pd.cut(data.Age,bins=np.arange(10,99,10),right=False)\n",
    "time[\"DECADE\"] = decade\n",
    "summary = time.groupby('DECADE')['Time_Minutes'].mean()\n",
    "#summary.index = np.arange(10,90,10) \n",
    "print(summary)   \n",
    "#fastest group is 30-39 years old"
   ]
  },
  {
   "cell_type": "code",
   "execution_count": 5,
   "metadata": {},
   "outputs": [
    {
     "name": "stdout",
     "output_type": "stream",
     "text": [
      "      DECADE M/F  Time_Minutes\n",
      "0   [10, 20)   F    273.472581\n",
      "1   [10, 20)   M    237.492708\n",
      "2   [20, 30)   F    244.571217\n",
      "3   [20, 30)   M    213.696440\n",
      "4   [30, 40)   F    240.370585\n",
      "5   [30, 40)   M    215.243436\n",
      "6   [40, 50)   F    249.068034\n",
      "7   [40, 50)   M    223.601057\n",
      "8   [50, 60)   F    260.858563\n",
      "9   [50, 60)   M    238.666633\n",
      "10  [60, 70)   F    282.248498\n",
      "11  [60, 70)   M    260.690118\n",
      "12  [70, 80)   F    306.417708\n",
      "13  [70, 80)   M    289.738353\n",
      "14  [80, 90)   F    364.116667\n",
      "15  [80, 90)   M    285.527778\n"
     ]
    }
   ],
   "source": [
    "summary = time.groupby(['DECADE','M/F'])['Time_Minutes'].mean()\n",
    "#print(summary)\n",
    "summary = pd.DataFrame(summary)\n",
    "summary = summary.reset_index()\n",
    "print(summary)"
   ]
  },
  {
   "cell_type": "code",
   "execution_count": 6,
   "metadata": {},
   "outputs": [
    {
     "data": {
      "image/png": "[encoded data removed]",
      "text/plain": [
       "<matplotlib.figure.Figure at 0x1c0ab7a1d0>"
      ]
     },
     "metadata": {},
     "output_type": "display_data"
    }
   ],
   "source": [
    "g = sns.barplot(x='DECADE', y='Time_Minutes',data=summary, palette=\"Set1\", hue='M/F')\n",
    "g.figure.set_size_inches(18,8)\n",
    "#g.set_title(\"Participants by Age & Gender\")"
   ]
  },
  {
   "cell_type": "markdown",
   "metadata": {},
   "source": [
    "### 1: Age and Gender Distribution"
   ]
  },
  {
   "cell_type": "code",
   "execution_count": 7,
   "metadata": {},
   "outputs": [
    {
     "data": {
      "image/png": "[encoded data removed]",
      "text/plain": [
       "<matplotlib.figure.Figure at 0x1c0aaf16a0>"
      ]
     },
     "metadata": {},
     "output_type": "display_data"
    }
   ],
   "source": [
    "plt.hist(data.Age,color='royalblue')  #the age varies from 18 to 84 years old.\n",
    "plt.title(\"Participants' Age\")\n",
    "plt.xlabel(\"age\")\n",
    "plt.ylabel(\"Number of Participants \")\n",
    "plt.show()"
   ]
  },
  {
   "cell_type": "code",
   "execution_count": 8,
   "metadata": {},
   "outputs": [
    {
     "data": {
      "text/plain": [
       "Text(0.5,1,'Participation in 2017')"
      ]
     },
     "execution_count": 8,
     "metadata": {},
     "output_type": "execute_result"
    },
    {
     "data": {
      "image/png": "[encoded data removed]",
      "text/plain": [
       "<matplotlib.figure.Figure at 0x1c0aaf1780>"
      ]
     },
     "metadata": {},
     "output_type": "display_data"
    }
   ],
   "source": [
    "g = sns.boxplot(data['M/F'], data['Age'])\n",
    "g.set_title(\"Participation in 2017\")\n",
    "\n"
   ]
  },
  {
   "cell_type": "markdown",
   "metadata": {},
   "source": [
    "### * Combine age and gender:"
   ]
  },
  {
   "cell_type": "code",
   "execution_count": 9,
   "metadata": {},
   "outputs": [
    {
     "data": {
      "text/plain": [
       "Text(0.5,1,'Participants by Age & Gender')"
      ]
     },
     "execution_count": 9,
     "metadata": {},
     "output_type": "execute_result"
    },
    {
     "data": {
      "image/png": "[encoded data removed]",
      "text/plain": [
       "<matplotlib.figure.Figure at 0x1c0aac31d0>"
      ]
     },
     "metadata": {},
     "output_type": "display_data"
    }
   ],
   "source": [
    "g = sns.countplot('Age', data=data, palette=\"Set1\", hue='M/F')\n",
    "g.figure.set_size_inches(18,8)\n",
    "g.set_title(\"Participants by Age & Gender\")"
   ]
  },
  {
   "cell_type": "markdown",
   "metadata": {},
   "source": [
    "### * Country:"
   ]
  },
  {
   "cell_type": "markdown",
   "metadata": {},
   "source": [
    "#### Top 15 Fastest Countries"
   ]
  },
  {
   "cell_type": "code",
   "execution_count": 10,
   "metadata": {},
   "outputs": [
    {
     "data": {
      "text/plain": [
       "<matplotlib.axes._subplots.AxesSubplot at 0x106259828>"
      ]
     },
     "execution_count": 10,
     "metadata": {},
     "output_type": "execute_result"
    },
    {
     "data": {
      "image/png": "[encoded data removed]",
      "text/plain": [
       "<matplotlib.figure.Figure at 0x1c0a9b1470>"
      ]
     },
     "metadata": {},
     "output_type": "display_data"
    }
   ],
   "source": [
    "top_15_countries = data.groupby(\"Country\")['Time_Minutes'].mean().nsmallest(15)\n",
    "\n",
    "top15_countries = data.loc[data['Country'].isin(np.array(top_15_countries.index))]\n",
    "top15_countries = top15_countries.groupby('Country')['Time_Minutes'].mean()\n",
    "top15_countries = pd.DataFrame(top15_countries)\n",
    "top15_countries = top15_countries.sort_values(['Time_Minutes'])\n",
    "sns.barplot(x = top15_countries.index, y = top15_countries.Time_Minutes)"
   ]
  },
  {
   "cell_type": "markdown",
   "metadata": {},
   "source": [
    "#### Worst 15 Countries"
   ]
  },
  {
   "cell_type": "code",
   "execution_count": 11,
   "metadata": {},
   "outputs": [
    {
     "data": {
      "text/plain": [
       "<matplotlib.axes._subplots.AxesSubplot at 0x1064336a0>"
      ]
     },
     "execution_count": 11,
     "metadata": {},
     "output_type": "execute_result"
    },
    {
     "data": {
      "image/png": "[encoded data removed]",
      "text/plain": [
       "<matplotlib.figure.Figure at 0x1c0a791748>"
      ]
     },
     "metadata": {},
     "output_type": "display_data"
    }
   ],
   "source": [
    "worst_15_countries = data.groupby(\"Country\")['Time_Minutes'].mean().nlargest(15)\n",
    "\n",
    "worst15_countries = data.loc[data['Country'].isin(np.array(worst_15_countries.index))]\n",
    "worst15_countries = worst15_countries.groupby('Country')['Time_Minutes'].mean()\n",
    "worst15_countries = pd.DataFrame(worst15_countries)\n",
    "worst15_countries = worst15_countries.sort_values(['Time_Minutes'])\n",
    "sns.barplot(x = worst15_countries.index, y = worst15_countries.Time_Minutes)"
   ]
  },
  {
   "cell_type": "markdown",
   "metadata": {},
   "source": [
    "## ## Recode 'Country' into four categories\n",
    "\n",
    "### 1 as US, 0 as outside US"
   ]
  },
  {
   "cell_type": "code",
   "execution_count": 12,
   "metadata": {},
   "outputs": [
    {
     "data": {
      "text/plain": [
       "USA    20945\n",
       "CAN     1870\n",
       "GBR      425\n",
       "MEX      285\n",
       "CHN      242\n",
       "GER      226\n",
       "BRA      205\n",
       "AUS      191\n",
       "JPN      170\n",
       "ITA      165\n",
       "Name: Country, dtype: int64"
      ]
     },
     "execution_count": 12,
     "metadata": {},
     "output_type": "execute_result"
    }
   ],
   "source": [
    "data.Country.value_counts().head(10) #we can see there are many people are from USA.   "
   ]
  },
  {
   "cell_type": "code",
   "execution_count": 13,
   "metadata": {},
   "outputs": [
    {
     "data": {
      "text/html": [
       "<div>\n",
       "<style scoped>\n",
       "    .dataframe tbody tr th:only-of-type {\n",
       "        vertical-align: middle;\n",
       "    }\n",
       "\n",
       "    .dataframe tbody tr th {\n",
       "        vertical-align: top;\n",
       "    }\n",
       "\n",
       "    .dataframe thead th {\n",
       "        text-align: right;\n",
       "    }\n",
       "</style>\n",
       "<table border=\"1\" class=\"dataframe\">\n",
       "  <thead>\n",
       "    <tr style=\"text-align: right;\">\n",
       "      <th></th>\n",
       "      <th>Country</th>\n",
       "      <th>US</th>\n",
       "    </tr>\n",
       "  </thead>\n",
       "  <tbody>\n",
       "    <tr>\n",
       "      <th>0</th>\n",
       "      <td>KEN</td>\n",
       "      <td>0</td>\n",
       "    </tr>\n",
       "    <tr>\n",
       "      <th>1</th>\n",
       "      <td>USA</td>\n",
       "      <td>1</td>\n",
       "    </tr>\n",
       "    <tr>\n",
       "      <th>2</th>\n",
       "      <td>JPN</td>\n",
       "      <td>0</td>\n",
       "    </tr>\n",
       "    <tr>\n",
       "      <th>3</th>\n",
       "      <td>USA</td>\n",
       "      <td>1</td>\n",
       "    </tr>\n",
       "    <tr>\n",
       "      <th>4</th>\n",
       "      <td>KEN</td>\n",
       "      <td>0</td>\n",
       "    </tr>\n",
       "    <tr>\n",
       "      <th>5</th>\n",
       "      <td>USA</td>\n",
       "      <td>1</td>\n",
       "    </tr>\n",
       "    <tr>\n",
       "      <th>6</th>\n",
       "      <td>USA</td>\n",
       "      <td>1</td>\n",
       "    </tr>\n",
       "    <tr>\n",
       "      <th>7</th>\n",
       "      <td>ETH</td>\n",
       "      <td>0</td>\n",
       "    </tr>\n",
       "    <tr>\n",
       "      <th>8</th>\n",
       "      <td>USA</td>\n",
       "      <td>1</td>\n",
       "    </tr>\n",
       "    <tr>\n",
       "      <th>9</th>\n",
       "      <td>USA</td>\n",
       "      <td>1</td>\n",
       "    </tr>\n",
       "  </tbody>\n",
       "</table>\n",
       "</div>"
      ],
      "text/plain": [
       "  Country  US\n",
       "0     KEN   0\n",
       "1     USA   1\n",
       "2     JPN   0\n",
       "3     USA   1\n",
       "4     KEN   0\n",
       "5     USA   1\n",
       "6     USA   1\n",
       "7     ETH   0\n",
       "8     USA   1\n",
       "9     USA   1"
      ]
     },
     "execution_count": 13,
     "metadata": {},
     "output_type": "execute_result"
    }
   ],
   "source": [
    "#create new variable \"US\" as a categorical variable with level 1 and 0\n",
    "data['US'] = np.where(data.Country.str.contains('USA'),1,0)\n",
    "data[['Country','US']].head(10)"
   ]
  },
  {
   "cell_type": "code",
   "execution_count": 14,
   "metadata": {},
   "outputs": [
    {
     "data": {
      "text/plain": [
       "Text(0.5,1,'US and outside US')"
      ]
     },
     "execution_count": 14,
     "metadata": {},
     "output_type": "execute_result"
    },
    {
     "data": {
      "image/png": "[encoded data removed]",
      "text/plain": [
       "<matplotlib.figure.Figure at 0x1c0a9b17f0>"
      ]
     },
     "metadata": {},
     "output_type": "display_data"
    }
   ],
   "source": [
    "g = sns.boxplot(data['US'], data['Time_Minutes'])\n",
    "g.set_title(\"US and outside US\")"
   ]
  },
  {
   "cell_type": "code",
   "execution_count": 15,
   "metadata": {},
   "outputs": [
    {
     "name": "stdout",
     "output_type": "stream",
     "text": [
      "US\n",
      "0    231.786353\n",
      "1    239.695991\n",
      "Name: Time_Minutes, dtype: float64\n",
      "US\n",
      "0    226.416667\n",
      "1    233.116667\n",
      "Name: Time_Minutes, dtype: float64\n"
     ]
    }
   ],
   "source": [
    "US = data.loc[:,['Time_Minutes','US']]\n",
    "us_summary = US.groupby('US')['Time_Minutes'].mean()\n",
    "us_summary2 = US.groupby('US')['Time_Minutes'].median()\n",
    "print(us_summary)\n",
    "print(us_summary2)\n",
    "#from the mean and medain summary, \n",
    "#we can see people outside US perfom better then people from US\n",
    "#since they use less time to finish the run."
   ]
  },
  {
   "cell_type": "code",
   "execution_count": 16,
   "metadata": {},
   "outputs": [
    {
     "name": "stdout",
     "output_type": "stream",
     "text": [
      "[12.94862677         inf]\n",
      "[5.19244219e-38 0.00000000e+00]\n"
     ]
    }
   ],
   "source": [
    "#two sample t-test to see if the difference is significant or not.\n",
    "from scipy import stats\n",
    "US = data.loc[data.US == 1,['Time_Minutes','US']]\n",
    "US.head()\n",
    "nonUS = data.loc[data.US == 0,['Time_Minutes','US']]\n",
    "nonUS.head()\n",
    "t_stat, p_val = stats.ttest_ind(US, \n",
    "                      nonUS,\n",
    "                      equal_var = False)\n",
    "print(t_stat)\n",
    "print(p_val)\n",
    "#The differences in finish time is significant different \n",
    "#between participants from US and outside from US"
   ]
  },
  {
   "cell_type": "markdown",
   "metadata": {},
   "source": [
    "## Recode 'Country' into four categories"
   ]
  },
  {
   "cell_type": "code",
   "execution_count": 17,
   "metadata": {},
   "outputs": [
    {
     "data": {
      "text/plain": [
       "array(['KEN', 'USA', 'JPN', 'ETH', 'ZIM', 'MEX', 'BRN', 'BRA', 'CAN',\n",
       "       'ITA', 'NED', 'IRL', 'BDI', 'GBR', 'GER', 'ESP', 'SUI', 'COL',\n",
       "       'NOR', 'POL', 'FRA', 'RUS', 'POR', 'CRC', 'BEL', 'NZL', 'PER',\n",
       "       'DOM', 'PAN', 'AUS', 'DEN', 'MAS', 'PHI', 'CHI', 'AUT', 'ARG',\n",
       "       'SIN', 'CHN', 'TWN', 'GUA', 'RSA', 'HKG', 'SLO', 'EST', 'TUR',\n",
       "       'EGY', 'IND', 'UAE', 'SWE', 'BER', 'KOR', 'CAY', 'FIN', 'LTU',\n",
       "       'GRE', 'CRO', 'ISL', 'LUX', 'FLK', 'VEN', 'JAM', 'THA', 'HON',\n",
       "       'SRB', 'CZE', 'ISR', 'MLT', 'HUN', 'ECU', 'KSA', 'ESA', 'MAR',\n",
       "       'ROU', 'LAT', 'UKR', 'SMR', 'BUL', 'ALG', 'NCA', 'SVK', 'AND',\n",
       "       'BAR', 'INA', 'GRN', 'URU', 'PAR', 'TCA', 'KUW', 'TRI', 'MGL',\n",
       "       'NGR'], dtype=object)"
      ]
     },
     "execution_count": 17,
     "metadata": {},
     "output_type": "execute_result"
    }
   ],
   "source": [
    "data.Country.unique()\n",
    "# Africa : KEN, ETH, ZIM, BRN, BDI, RSA, EGY, MAR, ALG, NGR\n",
    "# America : USA, MEX, BRA, CAN, COL, CRC, DOM, PAN, CHI, ARG, GUA, BER, CAY, FLK, VEN, JAM, HON, ECU, ESA, BAR, GRN,\n",
    "# URU, PAR, TCA, TRI, \n",
    "# Asia : JPN, NZL, PER, AUS, MAS, PHI, SIN, CHN, TWN, HKG, IND, UAE, KOR, THA, ISR, KSA, NCA, INA, KUW, MGL, \n",
    "# Europe : ITA, NED, IRL, GBR, ESP, SUI, NOR, POL, FRA, RUS, POR, BEL, DEN, AUT, SLO, EST, TUR, SWE, FIN, LTU, GER, CRO,\n",
    "# ISL, LUX, SRB, CZE, MLT, HUN, ROU, LAT, UKR, SMR, BUL, SVK, AND, GRE"
   ]
  },
  {
   "cell_type": "code",
   "execution_count": 18,
   "metadata": {},
   "outputs": [],
   "source": [
    "africa = ['KEN', 'ETH', 'ZIM', 'BRN', 'BDI', 'RSA', 'EGY', 'MAR', 'ALG', 'NGR']\n",
    "america = ['USA', 'MEX', 'BRA', 'CAN', 'COL', 'CRC', 'DOM', 'PAN', 'CHI', 'ARG', 'GUA', 'BER', 'CAY', 'FLK', \\\n",
    "           'VEN', 'JAM', 'HON', 'ECU', 'ESA', 'BAR', 'GRN', 'URU', 'PAR', 'TCA', 'TRI']\n",
    "asia = ['JPN', 'NZL', 'PER', 'AUS', 'MAS', 'PHI', 'SIN', 'CHN', 'TWN', 'HKG', 'IND',\\\n",
    "        'UAE', 'KOR', 'THA', 'ISR', 'KSA', 'NCA', 'INA', 'KUW', 'MGL']\n",
    "europe = ['ITA', 'NED', 'IRL', 'GBR', 'ESP', 'SUI', 'NOR', 'POL', 'FRA', 'RUS', 'POR', 'BEL', 'DEN', 'AUT',\\\n",
    "          'SLO', 'EST', 'TUR', 'SWE', 'FIN', 'LTU', 'GER', 'CRO', 'ISL', 'LUX', 'SRB', 'CZE', 'MLT', 'HUN',\\\n",
    "          'ROU', 'LAT', 'UKR', 'SMR', 'BUL', 'SVK', 'AND', 'GRE']\n",
    "data['Region'] = 'NA'"
   ]
  },
  {
   "cell_type": "code",
   "execution_count": 19,
   "metadata": {},
   "outputs": [
    {
     "data": {
      "text/plain": [
       "0     Africa\n",
       "1    America\n",
       "2       Asia\n",
       "3    America\n",
       "4     Africa\n",
       "5    America\n",
       "6    America\n",
       "7     Africa\n",
       "8    America\n",
       "9    America\n",
       "Name: Region, dtype: object"
      ]
     },
     "execution_count": 19,
     "metadata": {},
     "output_type": "execute_result"
    }
   ],
   "source": [
    "data.loc[data['Country'].isin(africa), 'Region'] = \"Africa\"\n",
    "data.loc[data['Country'].isin(america), 'Region'] = \"America\"\n",
    "data.loc[data['Country'].isin(asia), 'Region'] = \"Asia\"\n",
    "data.loc[data['Country'].isin(europe), 'Region'] = \"Europe\"\n",
    "data.Region.head(10)"
   ]
  },
  {
   "cell_type": "code",
   "execution_count": 20,
   "metadata": {},
   "outputs": [
    {
     "data": {
      "text/plain": [
       "array(['Africa', 'America', 'Asia', 'Europe'], dtype=object)"
      ]
     },
     "execution_count": 20,
     "metadata": {},
     "output_type": "execute_result"
    }
   ],
   "source": [
    "data.Region.unique()"
   ]
  },
  {
   "cell_type": "code",
   "execution_count": 21,
   "metadata": {},
   "outputs": [
    {
     "name": "stdout",
     "output_type": "stream",
     "text": [
      "Region\n",
      "Africa     217.457333\n",
      "America    238.234973\n",
      "Asia       244.069313\n",
      "Europe     232.837971\n",
      "Name: Time_Minutes, dtype: float64\n"
     ]
    },
    {
     "data": {
      "text/plain": [
       "<matplotlib.axes._subplots.AxesSubplot at 0x1c1548cdd8>"
      ]
     },
     "execution_count": 21,
     "metadata": {},
     "output_type": "execute_result"
    },
    {
     "data": {
      "image/png": "[encoded data removed]",
      "text/plain": [
       "<matplotlib.figure.Figure at 0x1c153f7278>"
      ]
     },
     "metadata": {},
     "output_type": "display_data"
    }
   ],
   "source": [
    "Region_time = data.groupby('Region')['Time_Minutes'].mean()\n",
    "print(Region_time)\n",
    "sns.barplot(x = Region_time.index, y = Region_time)"
   ]
  },
  {
   "cell_type": "code",
   "execution_count": 22,
   "metadata": {},
   "outputs": [
    {
     "data": {
      "text/plain": [
       "F_onewayResult(statistic=19.821127770662194, pvalue=7.905385082662423e-13)"
      ]
     },
     "execution_count": 22,
     "metadata": {},
     "output_type": "execute_result"
    }
   ],
   "source": [
    "# Regions are significantly different.\n",
    "stats.f_oneway(data[data['Region'] == \"Africa\"]['Time_Minutes'], data[data['Region'] == \"America\"]['Time_Minutes'], \\\n",
    "               data[data['Region'] == \"Asia\"]['Time_Minutes'], data[data['Region'] == \"Europe\"]['Time_Minutes'])"
   ]
  },
  {
   "cell_type": "markdown",
   "metadata": {},
   "source": [
    "## Part3: Data modeling:"
   ]
  },
  {
   "cell_type": "code",
   "execution_count": 23,
   "metadata": {},
   "outputs": [
    {
     "name": "stdout",
     "output_type": "stream",
     "text": [
      "   Unnamed: 0 Bib              Name  Age           City State Country Citizen  \\\n",
      "0           0  11   Kirui, Geoffrey   24       Keringet   NaN     KEN     NaN   \n",
      "1           1  17       Rupp, Galen   30       Portland    OR     USA     NaN   \n",
      "2           2  23     Osako, Suguru   25   Machida-City   NaN     JPN     NaN   \n",
      "3           3  21  Biwott, Shadrack   32  Mammoth Lakes    CA     USA     NaN   \n",
      "4           4   9    Chebet, Wilson   31       Marakwet   NaN     KEN     NaN   \n",
      "\n",
      "  Unnamed: 9       5K      ...      Division Time_Minutes Pace_Time_Seconds  \\\n",
      "0        NaN  0:15:25      ...             1   129.616667               297   \n",
      "1        NaN  0:15:24      ...             2   129.966667               298   \n",
      "2        NaN  0:15:25      ...             3   130.466667               299   \n",
      "3        NaN  0:15:25      ...             4   132.133333               303   \n",
      "4        NaN  0:15:25      ...             5   132.583333               304   \n",
      "\n",
      "  US Gender_F Gender_M Region_Africa Region_America Region_Asia Region_Europe  \n",
      "0  0        0        1             1              0           0             0  \n",
      "1  1        0        1             0              1           0             0  \n",
      "2  0        0        1             0              0           1             0  \n",
      "3  1        0        1             0              1           0             0  \n",
      "4  0        0        1             1              0           0             0  \n",
      "\n",
      "[5 rows x 33 columns]\n"
     ]
    }
   ],
   "source": [
    "# Making a dummy variables \n",
    "\n",
    "linear_model_data = pd.get_dummies(data, prefix='Gender', columns=['M/F'])\n",
    "linear_model_data = pd.get_dummies(linear_model_data, prefix = 'Region', columns = ['Region'])\n",
    "linear_model_data = pd.DataFrame(linear_model_data)\n",
    "print(linear_model_data.head())"
   ]
  },
  {
   "cell_type": "code",
   "execution_count": 24,
   "metadata": {},
   "outputs": [],
   "source": [
    "marathon_model = LinearRegression(fit_intercept= True)\n",
    "X =linear_model_data.loc[:, ['Age', 'Gender_M', 'Region_Africa', 'Region_Asia', 'Region_America']]"
   ]
  },
  {
   "cell_type": "code",
   "execution_count": 25,
   "metadata": {},
   "outputs": [
    {
     "data": {
      "text/plain": [
       "LinearRegression(copy_X=True, fit_intercept=True, n_jobs=1, normalize=False)"
      ]
     },
     "execution_count": 25,
     "metadata": {},
     "output_type": "execute_result"
    }
   ],
   "source": [
    "marathon_model.fit(X, np.log(linear_model_data.Time_Minutes))"
   ]
  },
  {
   "cell_type": "code",
   "execution_count": 26,
   "metadata": {},
   "outputs": [
    {
     "data": {
      "text/plain": [
       "array([ 0.0047167 , -0.11209307, -0.10284686,  0.03066378,  0.01275562])"
      ]
     },
     "execution_count": 26,
     "metadata": {},
     "output_type": "execute_result"
    }
   ],
   "source": [
    "marathon_model.coef_"
   ]
  },
  {
   "cell_type": "code",
   "execution_count": 27,
   "metadata": {},
   "outputs": [
    {
     "name": "stdout",
     "output_type": "stream",
     "text": [
      "                            OLS Regression Results                            \n",
      "==============================================================================\n",
      "Dep. Variable:           Time_Minutes   R-squared:                       0.162\n",
      "Model:                            OLS   Adj. R-squared:                  0.162\n",
      "Method:                 Least Squares   F-statistic:                     1021.\n",
      "Date:                Tue, 12 Jun 2018   Prob (F-statistic):               0.00\n",
      "Time:                        11:28:03   Log-Likelihood:                 11266.\n",
      "No. Observations:               26410   AIC:                        -2.252e+04\n",
      "Df Residuals:                   26404   BIC:                        -2.247e+04\n",
      "Df Model:                           5                                         \n",
      "Covariance Type:            nonrobust                                         \n",
      "==================================================================================\n",
      "                     coef    std err          t      P>|t|      [0.025      0.975]\n",
      "----------------------------------------------------------------------------------\n",
      "const              5.3055      0.005    969.692      0.000       5.295       5.316\n",
      "Age                0.0047   8.74e-05     53.977      0.000       0.005       0.005\n",
      "Gender_M          -0.1121      0.002    -55.781      0.000      -0.116      -0.108\n",
      "Region_Africa     -0.1028      0.023     -4.539      0.000      -0.147      -0.058\n",
      "Region_Asia        0.0307      0.006      4.883      0.000       0.018       0.043\n",
      "Region_America     0.0128      0.004      3.229      0.001       0.005       0.020\n",
      "==============================================================================\n",
      "Omnibus:                     1854.073   Durbin-Watson:                   0.287\n",
      "Prob(Omnibus):                  0.000   Jarque-Bera (JB):             2265.971\n",
      "Skew:                           0.698   Prob(JB):                         0.00\n",
      "Kurtosis:                       3.329   Cond. No.                     1.03e+03\n",
      "==============================================================================\n",
      "\n",
      "Warnings:\n",
      "[1] Standard Errors assume that the covariance matrix of the errors is correctly specified.\n",
      "[2] The condition number is large, 1.03e+03. This might indicate that there are\n",
      "strong multicollinearity or other numerical problems.\n"
     ]
    }
   ],
   "source": [
    "X2 = sm.add_constant(X)\n",
    "est = sm.OLS(np.log(linear_model_data['Time_Minutes']), X2)\n",
    "est2 = est.fit()\n",
    "print(est2.summary())"
   ]
  },
  {
   "cell_type": "code",
   "execution_count": 28,
   "metadata": {},
   "outputs": [
    {
     "name": "stdout",
     "output_type": "stream",
     "text": [
      "[1.0539069817661397, 1.0592283476721205, 1.026820917216397, 1.5131960232547403, 1.5592925443953225]\n"
     ]
    }
   ],
   "source": [
    "vif = [variance_inflation_factor(X2.values, i) for i in range(1,X2.shape[1])]\n",
    "print(vif)"
   ]
  },
  {
   "cell_type": "code",
   "execution_count": 29,
   "metadata": {},
   "outputs": [
    {
     "data": {
      "image/png": "[encoded data removed]",
      "text/plain": [
       "<matplotlib.figure.Figure at 0x1c153f7a58>"
      ]
     },
     "metadata": {},
     "output_type": "display_data"
    }
   ],
   "source": [
    "yhat = marathon_model.predict(X)\n",
    "plt.plot(yhat, data.Time_Minutes, 'o')\n",
    "plt.xlabel('predicted')\n",
    "plt.ylabel('actual')\n",
    "plt.show()"
   ]
  },
  {
   "cell_type": "code",
   "execution_count": 30,
   "metadata": {},
   "outputs": [
    {
     "data": {
      "image/png": "[encoded data removed]",
      "text/plain": [
       "<matplotlib.figure.Figure at 0x1c0ab0bbe0>"
      ]
     },
     "metadata": {},
     "output_type": "display_data"
    }
   ],
   "source": [
    "residuals = data.Time_Minutes - yhat\n",
    "plt.plot(yhat, residuals, 'o')\n",
    "plt.xlabel('predicted')\n",
    "plt.ylabel('residual')\n",
    "plt.show()"
   ]
  },
  {
   "cell_type": "code",
   "execution_count": 31,
   "metadata": {},
   "outputs": [
    {
     "data": {
      "image/png": "[encoded data removed]",
      "text/plain": [
       "<matplotlib.figure.Figure at 0x1c1549a898>"
      ]
     },
     "metadata": {},
     "output_type": "display_data"
    }
   ],
   "source": [
    "plt.plot(linear_model_data['Age'], linear_model_data['Time_Minutes'], 'o')\n",
    "plt.show()"
   ]
  },
  {
   "cell_type": "code",
   "execution_count": 32,
   "metadata": {},
   "outputs": [
    {
     "name": "stderr",
     "output_type": "stream",
     "text": [
      "100% (11 of 11) |########################| Elapsed Time: 0:00:01 Time:  0:00:01\n"
     ]
    }
   ],
   "source": [
    "gam = LinearGAM(n_splines=10).gridsearch(X, np.log(data['Time_Minutes']))"
   ]
  },
  {
   "cell_type": "code",
   "execution_count": 33,
   "metadata": {},
   "outputs": [
    {
     "name": "stdout",
     "output_type": "stream",
     "text": [
      "LinearGAM                                                                                                 \n",
      "=============================================== ==========================================================\n",
      "Distribution:                        NormalDist Effective DoF:                                     12.6362\n",
      "Link Function:                     IdentityLink Log Likelihood:                               -470626.8656\n",
      "Number of Samples:                        26410 AIC:                                           941281.0035\n",
      "                                                AICc:                                          941281.0186\n",
      "                                                GCV:                                                0.0243\n",
      "                                                Scale:                                              0.0242\n",
      "                                                Pseudo R-Squared:                                   0.1863\n",
      "==========================================================================================================\n",
      "Feature Function   Data Type      Num Splines   Spline Order  Linear Fit  Lambda     P > x      Sig. Code \n",
      "================== ============== ============= ============= =========== ========== ========== ==========\n",
      "feature 1          numerical      10            3             False       0.2512     1.11e-16   ***       \n",
      "feature 2          categorical    2             0             False       0.2512     1.11e-16   ***       \n",
      "feature 3          categorical    2             0             False       0.2512     1.20e-07   ***       \n",
      "feature 4          categorical    2             0             False       0.2512     9.02e-05   ***       \n",
      "feature 5          categorical    2             0             False       0.2512     3.04e-01             \n",
      "intercept                                                                            1.11e-16   ***       \n",
      "==========================================================================================================\n",
      "Significance codes:  0 '***' 0.001 '**' 0.01 '*' 0.05 '.' 0.1 ' ' 1\n",
      "\n",
      "WARNING: Fitting splines and a linear function to a feature introduces a model identifiability problem\n",
      "         which can cause p-values to appear significant when they are not.\n",
      "\n",
      "WARNING: p-values calculated in this manner behave correctly for un-penalized models or models with\n",
      "         known smoothing parameters, but when smoothing parameters have been estimated, the p-values\n",
      "         are typically lower than they should be, meaning that the tests reject the null too readily.\n"
     ]
    }
   ],
   "source": [
    "gam.summary()"
   ]
  },
  {
   "cell_type": "code",
   "execution_count": 34,
   "metadata": {},
   "outputs": [],
   "source": [
    "# train & test\n",
    "X_train, X_test, y_train, y_test = train_test_split(X, np.log(data['Time_Minutes']), test_size=0.3, random_state=42)"
   ]
  },
  {
   "cell_type": "code",
   "execution_count": 35,
   "metadata": {},
   "outputs": [
    {
     "data": {
      "text/plain": [
       "LinearRegression(copy_X=True, fit_intercept=True, n_jobs=1, normalize=False)"
      ]
     },
     "execution_count": 35,
     "metadata": {},
     "output_type": "execute_result"
    }
   ],
   "source": [
    "marathon_model.fit(X_train, y_train)"
   ]
  },
  {
   "cell_type": "code",
   "execution_count": 36,
   "metadata": {},
   "outputs": [
    {
     "name": "stdout",
     "output_type": "stream",
     "text": [
      "0.02488364023307956\n",
      "1.0251958220368913\n"
     ]
    }
   ],
   "source": [
    "yhat_lm = marathon_model.predict(X_test)\n",
    "mse_lm = ((y_test - yhat_lm) ** 2).mean()\n",
    "print(mse_lm)\n",
    "print(np.exp(0.024883640233079506))"
   ]
  },
  {
   "cell_type": "code",
   "execution_count": 37,
   "metadata": {},
   "outputs": [
    {
     "name": "stderr",
     "output_type": "stream",
     "text": [
      "100% (11 of 11) |########################| Elapsed Time: 0:00:01 Time:  0:00:01\n"
     ]
    }
   ],
   "source": [
    "gam = LinearGAM(n_splines=10).gridsearch(X_train, y_train)"
   ]
  },
  {
   "cell_type": "code",
   "execution_count": 38,
   "metadata": {},
   "outputs": [
    {
     "name": "stdout",
     "output_type": "stream",
     "text": [
      "0.02422409135040276\n",
      "1.0245198782114426\n"
     ]
    }
   ],
   "source": [
    "yhat_gam = gam.predict(X_test)\n",
    "mse_gam = ((y_test - yhat_gam) ** 2).mean()\n",
    "print(mse_gam)\n",
    "print(np.exp(0.024224091350402783))"
   ]
  },
  {
   "cell_type": "markdown",
   "metadata": {},
   "source": [
    "## Random Forest to Predict finish time based on Gender, Age, and Region"
   ]
  },
  {
   "cell_type": "code",
   "execution_count": 39,
   "metadata": {},
   "outputs": [
    {
     "name": "stderr",
     "output_type": "stream",
     "text": [
      "/Users/ruthyzheng/anaconda3/lib/python3.6/importlib/_bootstrap.py:219: RuntimeWarning: numpy.dtype size changed, may indicate binary incompatibility. Expected 96, got 88\n",
      "  return f(*args, **kwds)\n",
      "/Users/ruthyzheng/anaconda3/lib/python3.6/importlib/_bootstrap.py:219: ImportWarning: can't resolve package from __spec__ or __package__, falling back on __name__ and __path__\n",
      "  return f(*args, **kwds)\n"
     ]
    },
    {
     "data": {
      "text/html": [
       "<div>\n",
       "<style scoped>\n",
       "    .dataframe tbody tr th:only-of-type {\n",
       "        vertical-align: middle;\n",
       "    }\n",
       "\n",
       "    .dataframe tbody tr th {\n",
       "        vertical-align: top;\n",
       "    }\n",
       "\n",
       "    .dataframe thead th {\n",
       "        text-align: right;\n",
       "    }\n",
       "</style>\n",
       "<table border=\"1\" class=\"dataframe\">\n",
       "  <thead>\n",
       "    <tr style=\"text-align: right;\">\n",
       "      <th></th>\n",
       "      <th>Age</th>\n",
       "      <th>M/F</th>\n",
       "      <th>Region</th>\n",
       "      <th>Time_Minutes</th>\n",
       "    </tr>\n",
       "  </thead>\n",
       "  <tbody>\n",
       "    <tr>\n",
       "      <th>0</th>\n",
       "      <td>24</td>\n",
       "      <td>M</td>\n",
       "      <td>Africa</td>\n",
       "      <td>129.616667</td>\n",
       "    </tr>\n",
       "    <tr>\n",
       "      <th>1</th>\n",
       "      <td>30</td>\n",
       "      <td>M</td>\n",
       "      <td>America</td>\n",
       "      <td>129.966667</td>\n",
       "    </tr>\n",
       "    <tr>\n",
       "      <th>2</th>\n",
       "      <td>25</td>\n",
       "      <td>M</td>\n",
       "      <td>Asia</td>\n",
       "      <td>130.466667</td>\n",
       "    </tr>\n",
       "    <tr>\n",
       "      <th>3</th>\n",
       "      <td>32</td>\n",
       "      <td>M</td>\n",
       "      <td>America</td>\n",
       "      <td>132.133333</td>\n",
       "    </tr>\n",
       "    <tr>\n",
       "      <th>4</th>\n",
       "      <td>31</td>\n",
       "      <td>M</td>\n",
       "      <td>Africa</td>\n",
       "      <td>132.583333</td>\n",
       "    </tr>\n",
       "  </tbody>\n",
       "</table>\n",
       "</div>"
      ],
      "text/plain": [
       "   Age M/F   Region  Time_Minutes\n",
       "0   24   M   Africa    129.616667\n",
       "1   30   M  America    129.966667\n",
       "2   25   M     Asia    130.466667\n",
       "3   32   M  America    132.133333\n",
       "4   31   M   Africa    132.583333"
      ]
     },
     "execution_count": 39,
     "metadata": {},
     "output_type": "execute_result"
    }
   ],
   "source": [
    "from sklearn.model_selection import train_test_split\n",
    "from sklearn.ensemble import RandomForestRegressor\n",
    "\n",
    "data_RF = data.loc[:,['Age','M/F','Region','Time_Minutes']]\n",
    "data_RF.head()"
   ]
  },
  {
   "cell_type": "code",
   "execution_count": 40,
   "metadata": {},
   "outputs": [
    {
     "name": "stdout",
     "output_type": "stream",
     "text": [
      "Training Features  shape:  (19807, 7)\n",
      "Training Labels shape:  (19807,)\n",
      "Testing Features Shape:  (6603, 7)\n",
      "Testing Features Shape:  (6603,)\n"
     ]
    }
   ],
   "source": [
    "features = pd.get_dummies(data_RF)\n",
    "labels = features['Time_Minutes']\n",
    "features = features.drop('Time_Minutes',axis=1)\n",
    "feature_list = list(features.columns)\n",
    "features = np.array(features)\n",
    "labels = np.array(labels)\n",
    "#training and testing\n",
    "train_features,test_features,train_labels,test_labels = train_test_split(features,\n",
    "                                                                         labels,\n",
    "                                                                         test_size=0.25,\n",
    "                                                                         random_state=42)\n",
    "print(\"Training Features  shape: \", train_features.shape)\n",
    "print(\"Training Labels shape: \", train_labels.shape)\n",
    "print(\"Testing Features Shape: \", test_features.shape)\n",
    "print(\"Testing Features Shape: \",test_labels.shape)"
   ]
  },
  {
   "cell_type": "code",
   "execution_count": 41,
   "metadata": {},
   "outputs": [
    {
     "name": "stdout",
     "output_type": "stream",
     "text": [
      "Accuracy: 87.62 %.\n"
     ]
    }
   ],
   "source": [
    "rf_exp = RandomForestRegressor(n_estimators=1000,random_state=100)\n",
    "rf_exp.fit(train_features,train_labels)\n",
    "\n",
    "\n",
    "\n",
    "predictions = rf_exp.predict(test_features)\n",
    "error = abs(predictions-test_labels)\n",
    "meanError = np.mean(100*(error/test_labels))\n",
    "accuracy = 100 - meanError\n",
    "print('Accuracy:',round(accuracy,2),'%.')"
   ]
  },
  {
   "cell_type": "code",
   "execution_count": null,
   "metadata": {},
   "outputs": [],
   "source": []
  }
 ],
 "metadata": {
  "kernelspec": {
   "display_name": "Python 3",
   "language": "python",
   "name": "python3"
  },
  "language_info": {
   "codemirror_mode": {
    "name": "ipython",
    "version": 3
   },
   "file_extension": ".py",
   "mimetype": "text/x-python",
   "name": "python",
   "nbconvert_exporter": "python",
   "pygments_lexer": "ipython3",
   "version": "3.6.4"
  }
 },
 "nbformat": 4,
 "nbformat_minor": 2
}
